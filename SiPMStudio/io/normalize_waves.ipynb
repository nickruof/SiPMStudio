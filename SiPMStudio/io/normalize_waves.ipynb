{
 "cells": [
  {
   "cell_type": "code",
   "execution_count": 1,
   "metadata": {},
   "outputs": [],
   "source": [
    "%matplotlib widget\n",
    "import os\n",
    "import glob\n",
    "import json\n",
    "import numpy as np\n",
    "import pandas as pd\n",
    "import matplotlib.pyplot as plt\n",
    "import seaborn as sns\n",
    "sns.set_style(\"ticks\")\n",
    "\n",
    "from tqdm.notebook import tqdm\n",
    "\n",
    "from SiPMStudio.core.digitizers import CAENDT5730\n",
    "from SiPMStudio.processing.process_data import process_data\n",
    "from SiPMStudio.processing.processor import Processor\n",
    "from SiPMStudio.analysis.dark import spectrum_peaks\n",
    "import SiPMStudio.plots.plotting as sipm_plt"
   ]
  },
  {
   "cell_type": "code",
   "execution_count": 2,
   "metadata": {},
   "outputs": [],
   "source": [
    "settings_path = \"/Volumes/TOSHIBA_EXT/sipm_data_2/ketek_ln_data.json\"\n",
    "settings_dict = {}\n",
    "with open(settings_path, \"r\") as json_file:\n",
    "    settings_dict = json.load(json_file)"
   ]
  },
  {
   "cell_type": "code",
   "execution_count": 3,
   "metadata": {},
   "outputs": [],
   "source": [
    "processor = Processor()\n",
    "processor.add(\"baseline_subtract\", settings={\"degree\": 1})\n",
    "processor.add(\"deconvolve_waves\", settings={\"height_range\": [1600, 3000], \"min_loc\": 1000})"
   ]
  },
  {
   "cell_type": "code",
   "execution_count": 4,
   "metadata": {},
   "outputs": [],
   "source": [
    "digitizer = CAENDT5730()"
   ]
  },
  {
   "cell_type": "code",
   "execution_count": null,
   "metadata": {},
   "outputs": [
    {
     "name": "stderr",
     "output_type": "stream",
     "text": [
      "  0%|          | 0/165 [00:00<?, ?it/s]"
     ]
    },
    {
     "name": "stdout",
     "output_type": "stream",
     "text": [
      " \n",
      "Starting SiPMStudio processing ... \n",
      "Input Path:  /Volumes/TOSHIBA_EXT/sipm_data_2/ketek_data\n",
      "Output Path:  /Volumes/TOSHIBA_EXT/sipm_data_2/ketek_data\n",
      "Input Files:  ['t1_ketek_ln_29.h5', 't1_ketek_ln_30.h5', 't1_ketek_ln_31.h5', 't1_ketek_ln_32.h5']\n",
      "File Sizes:  ['6571 MB', '6488 MB', '6558 MB', '6467 MB']\n",
      "Processing: t1_ketek_ln_29.h5\n"
     ]
    },
    {
     "name": "stderr",
     "output_type": "stream",
     "text": [
      "  7%|▋         | 12/165 [02:17<29:20, 11.50s/it]"
     ]
    }
   ],
   "source": [
    "process_data(settings_dict, processor, digitizer, output_dir=settings_dict[\"output_path\"])"
   ]
  },
  {
   "cell_type": "code",
   "execution_count": null,
   "metadata": {},
   "outputs": [],
   "source": []
  },
  {
   "cell_type": "code",
   "execution_count": null,
   "metadata": {},
   "outputs": [],
   "source": []
  },
  {
   "cell_type": "code",
   "execution_count": null,
   "metadata": {},
   "outputs": [],
   "source": []
  }
 ],
 "metadata": {
  "kernelspec": {
   "display_name": "Python 3",
   "language": "python",
   "name": "python3"
  },
  "language_info": {
   "codemirror_mode": {
    "name": "ipython",
    "version": 3
   },
   "file_extension": ".py",
   "mimetype": "text/x-python",
   "name": "python",
   "nbconvert_exporter": "python",
   "pygments_lexer": "ipython3",
   "version": "3.8.5"
  }
 },
 "nbformat": 4,
 "nbformat_minor": 4
}
