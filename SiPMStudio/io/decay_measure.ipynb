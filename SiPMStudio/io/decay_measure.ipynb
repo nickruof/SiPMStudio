{
 "cells": [
  {
   "cell_type": "code",
   "execution_count": 1,
   "metadata": {},
   "outputs": [],
   "source": [
    "%matplotlib widget\n",
    "import os\n",
    "import glob\n",
    "import h5py\n",
    "import numpy as np\n",
    "import matplotlib.pyplot as plt\n",
    "import seaborn as sns\n",
    "\n",
    "from tqdm.notebook import tqdm\n",
    "from scipy.signal import find_peaks\n",
    "from scipy.optimize import curve_fit"
   ]
  },
  {
   "cell_type": "code",
   "execution_count": 2,
   "metadata": {},
   "outputs": [],
   "source": [
    "def average_waveform(waveforms, min_height=500):\n",
    "    peak_array = []\n",
    "    average_waveform = np.array([0]*len(waveforms[0]))\n",
    "    N = 0\n",
    "    for waveform in tqdm(waveforms, total=waveforms.shape[0]):\n",
    "        peak_locs = find_peaks(waveform, height=min_height, distance=5)[0]\n",
    "        if len(peak_locs) == 0: continue\n",
    "        if len(peak_locs) >= 2:\n",
    "            if peak_locs[1] < 1000: continue\n",
    "        if (waveform[peak_locs[0]] < 1000) & (peak_locs[0] < 500):\n",
    "            average_waveform = average_waveform + waveform\n",
    "            N += 1\n",
    "    return average_waveform/N"
   ]
  },
  {
   "cell_type": "code",
   "execution_count": 3,
   "metadata": {},
   "outputs": [],
   "source": [
    "def exp_func(t, A, tau, D):\n",
    "    return A*np.exp(-t/tau) + D\n",
    "\n",
    "def double_exp(t, A1, A2, tau1, tau2, D):\n",
    "    return exp_func(t, A1, tau1, 0) + exp_func(t, A2, tau2, D)\n",
    "\n",
    "def rise_func(t, A, t0, tau, D):\n",
    "    return A*(1 - np.exp(-(t-t0)/tau)) + D"
   ]
  },
  {
   "cell_type": "code",
   "execution_count": 4,
   "metadata": {},
   "outputs": [],
   "source": [
    "data_path = \"/Volumes/TOSHIBA_EXT/sipm_data_2/ketek_box/ketek_room2/t1\"\n",
    "file_list = glob.glob(data_path+\"/*.h5\")"
   ]
  },
  {
   "cell_type": "code",
   "execution_count": 5,
   "metadata": {},
   "outputs": [
    {
     "data": {
      "text/plain": [
       "['/Volumes/TOSHIBA_EXT/sipm_data_2/ketek_box/ketek_room2/t1/t1_ketek_room2_25.h5',\n",
       " '/Volumes/TOSHIBA_EXT/sipm_data_2/ketek_box/ketek_room2/t1/t1_ketek_room2_26.h5',\n",
       " '/Volumes/TOSHIBA_EXT/sipm_data_2/ketek_box/ketek_room2/t1/t1_ketek_room2_27.h5',\n",
       " '/Volumes/TOSHIBA_EXT/sipm_data_2/ketek_box/ketek_room2/t1/t1_ketek_room2_28.h5',\n",
       " '/Volumes/TOSHIBA_EXT/sipm_data_2/ketek_box/ketek_room2/t1/t1_ketek_room2_29.h5',\n",
       " '/Volumes/TOSHIBA_EXT/sipm_data_2/ketek_box/ketek_room2/t1/t1_ketek_room2_30.h5']"
      ]
     },
     "execution_count": 5,
     "metadata": {},
     "output_type": "execute_result"
    }
   ],
   "source": [
    "file_list"
   ]
  },
  {
   "cell_type": "code",
   "execution_count": 6,
   "metadata": {},
   "outputs": [],
   "source": [
    "sipm_file = h5py.File(file_list[3], \"r\")\n",
    "waveforms = sipm_file[\"/raw/waveforms\"][:]\n",
    "baselines = sipm_file[\"/raw/baselines\"][:]\n",
    "base_forms = waveforms - baselines\n",
    "sipm_file.close()"
   ]
  },
  {
   "cell_type": "code",
   "execution_count": 7,
   "metadata": {},
   "outputs": [
    {
     "data": {
      "application/vnd.jupyter.widget-view+json": {
       "model_id": "528221c4b26843d1a0c04e6ad31aea89",
       "version_major": 2,
       "version_minor": 0
      },
      "text/plain": [
       "Canvas(toolbar=Toolbar(toolitems=[('Home', 'Reset original view', 'home', 'home'), ('Back', 'Back to previous …"
      ]
     },
     "metadata": {},
     "output_type": "display_data"
    },
    {
     "data": {
      "text/plain": [
       "[<matplotlib.lines.Line2D at 0x1288e1910>]"
      ]
     },
     "execution_count": 7,
     "metadata": {},
     "output_type": "execute_result"
    }
   ],
   "source": [
    "plt.figure()\n",
    "plt.plot(base_forms[3])"
   ]
  },
  {
   "cell_type": "code",
   "execution_count": 8,
   "metadata": {},
   "outputs": [
    {
     "data": {
      "application/vnd.jupyter.widget-view+json": {
       "model_id": "d09f68a1a1aa4bdf8d016c3028a45e17",
       "version_major": 2,
       "version_minor": 0
      },
      "text/plain": [
       "HBox(children=(FloatProgress(value=0.0, max=152475.0), HTML(value='')))"
      ]
     },
     "metadata": {},
     "output_type": "display_data"
    },
    {
     "name": "stdout",
     "output_type": "stream",
     "text": [
      "\n"
     ]
    }
   ],
   "source": [
    "super_pulse = average_waveform(base_forms)\n",
    "t = np.arange(0, 2*len(super_pulse), 2)"
   ]
  },
  {
   "cell_type": "code",
   "execution_count": 13,
   "metadata": {},
   "outputs": [
    {
     "data": {
      "application/vnd.jupyter.widget-view+json": {
       "model_id": "79e846ed5ddb44219431f8ec2e250616",
       "version_major": 2,
       "version_minor": 0
      },
      "text/plain": [
       "Canvas(toolbar=Toolbar(toolitems=[('Home', 'Reset original view', 'home', 'home'), ('Back', 'Back to previous …"
      ]
     },
     "metadata": {},
     "output_type": "display_data"
    },
    {
     "data": {
      "text/plain": [
       "Text(0, 0.5, 'Amplitude (ADC)')"
      ]
     },
     "execution_count": 13,
     "metadata": {},
     "output_type": "execute_result"
    }
   ],
   "source": [
    "plt.figure()\n",
    "plt.plot(t, super_pulse)\n",
    "plt.plot(t[58:400], super_pulse[58:400])\n",
    "plt.xlim(0, 1000)\n",
    "plt.xlabel(\"Time (ns)\")\n",
    "plt.ylabel(\"Amplitude (ADC)\")"
   ]
  },
  {
   "cell_type": "code",
   "execution_count": 14,
   "metadata": {},
   "outputs": [],
   "source": [
    "left_bound = 58\n",
    "right_bound = 400\n",
    "t_fit = t[left_bound:right_bound]\n",
    "pulse_fit = super_pulse[left_bound:right_bound]"
   ]
  },
  {
   "cell_type": "code",
   "execution_count": 18,
   "metadata": {},
   "outputs": [],
   "source": [
    "coeffs, covs = curve_fit(exp_func, t_fit, pulse_fit, p0=[100, 50, 0])\n",
    "errors = np.sqrt(np.diag(covs))"
   ]
  },
  {
   "cell_type": "code",
   "execution_count": 19,
   "metadata": {},
   "outputs": [
    {
     "name": "stdout",
     "output_type": "stream",
     "text": [
      "[7154.62095796   53.57366875   41.5179915 ]\n",
      "[63.69142988  0.183377    0.30830826]\n"
     ]
    }
   ],
   "source": [
    "print(coeffs)\n",
    "print(errors)"
   ]
  },
  {
   "cell_type": "code",
   "execution_count": 21,
   "metadata": {},
   "outputs": [
    {
     "data": {
      "application/vnd.jupyter.widget-view+json": {
       "model_id": "fcb500e6e38241ccb804834cb77d7a5b",
       "version_major": 2,
       "version_minor": 0
      },
      "text/plain": [
       "Canvas(toolbar=Toolbar(toolitems=[('Home', 'Reset original view', 'home', 'home'), ('Back', 'Back to previous …"
      ]
     },
     "metadata": {},
     "output_type": "display_data"
    },
    {
     "name": "stdout",
     "output_type": "stream",
     "text": [
      "tau1:  53.573668750252\n"
     ]
    }
   ],
   "source": [
    "plt.figure()\n",
    "plt.plot(t, super_pulse)\n",
    "plt.plot(t_fit, exp_func(t_fit, *coeffs))\n",
    "plt.xlim(0, 1000)\n",
    "plt.xlabel(\"Time (ns)\")\n",
    "plt.ylabel(\"Amplitude (ADC)\")\n",
    "\n",
    "#print(\"tau1: \", coeffs[2], \"tau2: \", coeffs[3])\n",
    "print(\"tau1: \", coeffs[1])"
   ]
  },
  {
   "cell_type": "code",
   "execution_count": null,
   "metadata": {},
   "outputs": [],
   "source": []
  }
 ],
 "metadata": {
  "kernelspec": {
   "display_name": "Python 3",
   "language": "python",
   "name": "python3"
  },
  "language_info": {
   "codemirror_mode": {
    "name": "ipython",
    "version": 3
   },
   "file_extension": ".py",
   "mimetype": "text/x-python",
   "name": "python",
   "nbconvert_exporter": "python",
   "pygments_lexer": "ipython3",
   "version": "3.8.5"
  }
 },
 "nbformat": 4,
 "nbformat_minor": 4
}
