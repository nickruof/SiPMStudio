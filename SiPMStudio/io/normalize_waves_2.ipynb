{
 "cells": [
  {
   "cell_type": "code",
   "execution_count": null,
   "metadata": {},
   "outputs": [],
   "source": [
    "%matplotlib widget\n",
    "import os\n",
    "import math\n",
    "import h5py\n",
    "import numpy as np\n",
    "import matplotlib.pyplot as plt\n",
    "import seaborn as sns\n",
    "\n",
    "from scipy.stats import binom\n",
    "from scipy.stats import norm\n",
    "from scipy.stats import exponnorm\n",
    "from scipy.stats import linregress\n",
    "from scipy.special import erfc\n",
    "import scipy.constants as const\n",
    "\n",
    "from scipy.optimize import curve_fit\n",
    "from scipy.optimize import minimize\n",
    "from scipy.signal import find_peaks\n",
    "from lmfit import Model\n",
    "\n",
    "from SiPMStudio.analysis.dark import current_waveforms\n",
    "from SiPMStudio.analysis.dark import integrate_current\n",
    "\n",
    "from iminuit import Minuit\n",
    "from iminuit.cost import ExtendedUnbinnedNLL\n",
    "from iminuit.cost import UnbinnedNLL\n",
    "from iminuit.cost import LeastSquares\n",
    "\n",
    "from functools import partial\n",
    "from tqdm.notebook import tqdm"
   ]
  },
  {
   "cell_type": "code",
   "execution_count": null,
   "metadata": {},
   "outputs": [],
   "source": [
    "def zero_peak(x, A0, B0, x0, sigma_0, rate): \n",
    "    return A0*norm.pdf(x, x0, sigma_0) + B0*exponnorm.pdf(x, rate, x0, sigma_0)\n",
    "\n",
    "def photon_peak(x, k, A0, B1, x0, sigma_0, sigma_1, gain, rate): \n",
    "    mean = x0 + k*gain \n",
    "    sigma = np.sqrt(sigma_0**2 + k*sigma_1**2) \n",
    "    return A0*(norm.pdf(x, mean, sigma) + B1*exponnorm.pdf(x, rate, mean, sigma))\n",
    "\n",
    "def amplitude(x, tau, b): \n",
    "    return b*np.exp(-x/tau)\n",
    "\n",
    "def amplitude_v2(k, lam):\n",
    "    return poisson.pmf(k, lam)\n",
    "\n",
    "def spectrum_pdf(x, A0, B0, B1, tau, b, x0, x1, sigma_0, sigma_1, gain, rate_0, rate_1, num_peaks=5): \n",
    "    pdf = zero_peak(x, A0, B0, x0, sigma_0, rate_0) \n",
    "    norm = A0 + B0\n",
    "    for k in range(1, int(num_peaks+1)): \n",
    "        amp = amplitude(x1+k*gain, tau, b)\n",
    "        #amp = b*amplitude_v2(k-1, tau)\n",
    "        pdf += photon_peak(x, k, amp, B1, x1, sigma_0, sigma_1, gain, rate_1) \n",
    "        norm += amp * (1 + B1) \n",
    "    pdf = pdf / norm \n",
    "    return pdf\n",
    "\n",
    "def height_pdf(x, B1, tau, b, x0, sigma_0, sigma_1, gain, rate_1, num_peaks=5): \n",
    "    norm = 0\n",
    "    pdf = np.array([0]*len(x), dtype=float)\n",
    "    for k in range(1, int(num_peaks+1)): \n",
    "        amp = amplitude(x0+k*gain, tau, b)\n",
    "        pdf += photon_peak(x, k, amp, B1, x0, sigma_0, sigma_1, gain, rate_1) \n",
    "        norm += amp * (1 + B1) \n",
    "    pdf = pdf / norm \n",
    "    return pdf"
   ]
  },
  {
   "cell_type": "code",
   "execution_count": null,
   "metadata": {},
   "outputs": [],
   "source": [
    "def gaussian(x, A, mu, sigma):\n",
    "    return A*np.exp(-(x - mu)**2/(2*sigma**2))\n",
    "\n",
    "def exp_func(x, A, tau):\n",
    "    return A*np.exp(-x/tau)\n",
    "\n",
    "def gaussian_fit(x, y):\n",
    "    params, cov = np.polyfit(x, np.log(y), deg=2, cov=True)\n",
    "    errors = np.sqrt(np.diag(cov))\n",
    "    mu = -params[1]/(2*params[0])\n",
    "    sigma = np.sqrt(-1/(2*params[0]))\n",
    "    A = np.exp((mu**2/(2*sigma**2)) + params[2])\n",
    "\n",
    "    A_err = np.sqrt((A**2/(16*params[0]**4))*errors[0]**2 + (4*A**2*errors[1]**2) + A**2*errors[2]**2)\n",
    "    mu_err = sigma*np.sqrt(params[1]**2*errors[0]**2 + errors[1]**2)\n",
    "    sigma_err = (-2*params[0])**(-3/2)*errors[0]\n",
    "    \n",
    "    A_param = [A, A-A_err, A+A_err]\n",
    "    mu_param = [mu, mu-mu_err, mu + mu_err]\n",
    "    sigma_param = [sigma, sigma-sigma_err, sigma+sigma_err]\n",
    "    \n",
    "    return A_param, mu_param, sigma_param\n",
    "\n",
    "def guess_params(x, y, peaks, props, show=False):\n",
    "    photon_peaks = peaks[1:]\n",
    "    gain_average = x[photon_peaks[1]] - x[photon_peaks[0]]\n",
    "    gain_std = gain_average/2\n",
    "    gain = [gain_average, gain_average-gain_std, gain_average+gain_std]\n",
    "    x0 = 0\n",
    "    sigma_0 = 1\n",
    "    sigma_1 = 1\n",
    "    A0 = props[\"peak_heights\"][0]\n",
    "    mus = []\n",
    "    amps = []\n",
    "    rate = 0\n",
    "    limits = []\n",
    "    for i, peak in enumerate(peaks[:4]):\n",
    "        x_fit = x[(x > x[peak] - (gain_average/2)) & (x < x[peak] + (gain_average/2))]\n",
    "        y_fit = y[(x > x[peak] - (gain_average/2)) & (x < x[peak] + (gain_average/2))]\n",
    "        \n",
    "        x_fit = x_fit[y_fit > y[peak]/4]\n",
    "        y_fit = y_fit[y_fit > y[peak]/4]\n",
    "        A, mu, sigma = gaussian_fit(x_fit, y_fit)\n",
    "        mu[1] = mu[0] - gain_average/4\n",
    "        mu[2] = mu[0] + gain_average/4\n",
    "        sigma[1] = 1e-8\n",
    "        sigma[2] = sigma[0] + sigma[0]\n",
    "        A[1] = A[0] - A[0]\n",
    "        A[2] = A[0] + A[0]\n",
    "        \n",
    "        if i == 0:\n",
    "            A0 = A\n",
    "            x0 = mu\n",
    "            sigma_0 = sigma\n",
    "        elif i == 1:\n",
    "            sigma_1 = sigma\n",
    "            mus.append(mu[0])\n",
    "            amps.append(A[0])\n",
    "        else:\n",
    "            mus.append(mu[0])\n",
    "            amps.append(A[0])\n",
    "    params_info = linregress(mus, np.log(amps))\n",
    "    slope = params_info[0]\n",
    "    intercept = params_info[1]\n",
    "    slope_err = params_info[-2]\n",
    "    int_err = params_info[-1]\n",
    "    tau = [-1/slope, 0, -1/(slope) + (1/slope**2)*slope_err]\n",
    "    A_exp = [np.exp(intercept), 0, 2*np.exp(intercept)]\n",
    "    return x0, A0, gain, sigma_0, sigma_1, A_exp, tau\n",
    "\n",
    "def guess_params_height(x, y, peaks, props, show=False):\n",
    "    gain_average = x[peaks[1]] - x[peaks[0]]\n",
    "    gain_std = gain_average/2\n",
    "    gain = [gain_average, gain_average-gain_std, gain_average+gain_std]\n",
    "    x0 = 0\n",
    "    sigma_0 = 1\n",
    "    sigma_1 = 1\n",
    "    A0 = 0\n",
    "    mus = []\n",
    "    amps = []\n",
    "    rate = 0\n",
    "    limits = []\n",
    "    \n",
    "    for i, peak in enumerate(peaks[[0, 1]]):\n",
    "        x_fit = x[(x > x[peak] - (gain_average/2)) & (x < x[peak] + (gain_average/2))]\n",
    "        y_fit = y[(x > x[peak] - (gain_average/2)) & (x < x[peak] + (gain_average/2))]\n",
    "        \n",
    "        x_fit = x_fit[y_fit > y[peak]/4]\n",
    "        y_fit = y_fit[y_fit > y[peak]/4]\n",
    "        x_fit = np.array(x_fit, dtype=np.float64)\n",
    "        y_fit = np.array(y_fit, dtype=np.float64)\n",
    "        \n",
    "        A, mu, sigma = gaussian_fit(x_fit, y_fit)\n",
    "        mu[1] = mu[0] - gain_average/4\n",
    "        mu[2] = mu[0] + gain_average/4\n",
    "        sigma[1] = 1e-8\n",
    "        sigma[2] = sigma[0] + sigma[0]\n",
    "        A[1] = A[0] - A[0]\n",
    "        A[2] = A[0] + A[0]\n",
    "        \n",
    "        if i == 0:\n",
    "            sigma_0 = sigma\n",
    "            sigma_1 = sigma\n",
    "            mus.append(mu[0])\n",
    "            amps.append(A[0])\n",
    "        else:\n",
    "            mus.append(mu[0])\n",
    "            amps.append(A[0])\n",
    "    params_info = linregress(mus, np.log(amps))\n",
    "    slope = params_info[0]\n",
    "    intercept = params_info[1]\n",
    "    slope_err = params_info[-2]\n",
    "    int_err = params_info[-1]\n",
    "    tau = [-1/slope, 0, -1/(slope) + (1/slope**2)*slope_err]\n",
    "    A_exp = [np.exp(intercept), 0, 2*np.exp(intercept)]\n",
    "    return x0, A0, gain, sigma_0, sigma_1, A_exp, tau\n",
    "\n",
    "def append_to_file(file, dataname, data):\n",
    "    with h5py.File(file, \"a\") as h5_file:\n",
    "        h5_file.create_dataset(dataname, data=data)\n",
    "        \n",
    "def overwrite_to_file(file, dataname, data):\n",
    "    with h5py.File(file, \"r+\") as h5_file:\n",
    "        del h5_file[dataname]\n",
    "        h5_file.create_dataset(dataname, data=data)"
   ]
  },
  {
   "cell_type": "code",
   "execution_count": null,
   "metadata": {},
   "outputs": [],
   "source": [
    "t1_path = \"/Volumes/TOSHIBA_EXT/sipm_data_2/ketek_box/ketek_cold1/t1\"\n",
    "t2_path = \"/Volumes/TOSHIBA_EXT/sipm_data_2/ketek_box/ketek_cold1/t2\"\n",
    "t1_file = os.path.join(t1_path, \"t1_ketek_cold1_28.h5\")\n",
    "t2_file = os.path.join(t2_path, \"t2_ketek_cold1_28.h5\")"
   ]
  },
  {
   "cell_type": "code",
   "execution_count": null,
   "metadata": {},
   "outputs": [],
   "source": [
    "t1_sipm_file = h5py.File(t1_file, \"r\")"
   ]
  },
  {
   "cell_type": "code",
   "execution_count": null,
   "metadata": {},
   "outputs": [],
   "source": [
    "t1_waveforms = t1_sipm_file[\"/raw/waveforms\"][:]\n",
    "t1_baselines = t1_sipm_file[\"/raw/baselines\"][:]\n",
    "t1_sipm_file.close()"
   ]
  },
  {
   "cell_type": "code",
   "execution_count": null,
   "metadata": {},
   "outputs": [],
   "source": [
    "t1_flatforms = t1_waveforms - t1_baselines"
   ]
  },
  {
   "cell_type": "code",
   "execution_count": null,
   "metadata": {},
   "outputs": [],
   "source": [
    "t_plot = np.arange(0, 2*t1_flatforms.shape[1], 2)\n",
    "plt.figure()\n",
    "plt.plot(t_plot, t1_flatforms[4])\n",
    "plt.xlabel(\"Time (ns)\")\n",
    "plt.ylabel(\"ADC\")\n",
    "plt.grid(alpha=0.25)"
   ]
  },
  {
   "cell_type": "code",
   "execution_count": null,
   "metadata": {},
   "outputs": [],
   "source": [
    "current_forms = current_waveforms(t1_flatforms)\n",
    "charges = integrate_current(current_forms, 35, 200)*1e12"
   ]
  },
  {
   "cell_type": "code",
   "execution_count": null,
   "metadata": {},
   "outputs": [],
   "source": [
    "plt.figure()\n",
    "[n, bins, patches] = plt.hist(charges, bins=1000, edgecolor=\"none\", alpha=0.50, density=True)\n",
    "n_plot = np.append(n, 0)\n",
    "bins_plot = np.append(bins, bins[-1]+(bins[1]- bins[0]))\n",
    "plt.step(bins_plot[1:], n_plot, color=sns.color_palette()[0])\n",
    "plt.xlabel(\"Charge (pC)\")\n",
    "plt.ylabel(\"Norm Counts\")\n",
    "plt.yscale(\"log\")"
   ]
  },
  {
   "cell_type": "code",
   "execution_count": null,
   "metadata": {},
   "outputs": [],
   "source": [
    "bin_centers = (bins[:-1] + bins[1:]) / 2\n",
    "n_centers = n\n",
    "bin_width = bins[1] - bins[0]\n",
    "scale = np.sum(n_centers)*bin_width"
   ]
  },
  {
   "cell_type": "code",
   "execution_count": null,
   "metadata": {},
   "outputs": [],
   "source": [
    "peaks, props = find_peaks(n, height=1e-1, distance=30)"
   ]
  },
  {
   "cell_type": "code",
   "execution_count": null,
   "metadata": {},
   "outputs": [],
   "source": [
    "props[\"peak_heights\"]"
   ]
  },
  {
   "cell_type": "code",
   "execution_count": null,
   "metadata": {},
   "outputs": [],
   "source": [
    "plt.figure()\n",
    "[n, bins, patches] = plt.hist(charges, bins=1000, edgecolor=\"none\", density=True, alpha=0.75)\n",
    "plt.scatter(bin_centers[peaks], props[\"peak_heights\"], c=\"red\")\n",
    "plt.xlabel(\"Charge (pC)\")\n",
    "plt.ylabel(\"Norm Counts\")\n",
    "#plt.xlim(-0.1, 0.5)\n",
    "plt.yscale(\"log\")"
   ]
  },
  {
   "cell_type": "code",
   "execution_count": null,
   "metadata": {},
   "outputs": [],
   "source": [
    "x0, A0, gain, sigma_0, sigma_1, A_exp, tau = guess_params(bin_centers, n_centers, peaks, props, show=False)\n",
    "gain"
   ]
  },
  {
   "cell_type": "code",
   "execution_count": null,
   "metadata": {},
   "outputs": [],
   "source": [
    "likelihood = UnbinnedNLL(charges, pdf=spectrum_pdf)"
   ]
  },
  {
   "cell_type": "code",
   "execution_count": null,
   "metadata": {},
   "outputs": [],
   "source": [
    "likelihood_fit = Minuit(likelihood, A0=A0[0], B0=0, B1=0.15, tau=tau[0], b=2, \n",
    "                        sigma_0=sigma_0[0], sigma_1=sigma_1[0], x0=x0[0], x1=x0[0], \n",
    "                        gain=gain[0], rate_0=1, rate_1=10, num_peaks=7)"
   ]
  },
  {
   "cell_type": "code",
   "execution_count": null,
   "metadata": {},
   "outputs": [],
   "source": [
    "s = 1.5\n",
    "likelihood_fit.limits[\"A0\"] = (A0[1], A0[2])\n",
    "likelihood_fit.limits[\"B1\"] = (1e-2, 1)\n",
    "likelihood_fit.limits[\"tau\"] = (s*tau[1], s*tau[2])\n",
    "likelihood_fit.limits[\"b\"] = (1e-2, 100)\n",
    "likelihood_fit.limits[\"sigma_0\"] = (sigma_0[1], sigma_0[2])\n",
    "likelihood_fit.limits[\"sigma_1\"] = (sigma_1[1], sigma_1[2])\n",
    "likelihood_fit.limits[\"x0\"] = (x0[1], x0[2])\n",
    "likelihood_fit.limits[\"gain\"] = (gain[1], gain[2])\n",
    "likelihood_fit.limits[\"rate_0\"] = (1e-2, 10)\n",
    "likelihood_fit.limits[\"rate_1\"] = (1, 1e3)\n",
    "likelihood_fit.fixed[\"B0\"] = True\n",
    "likelihood_fit.fixed[\"num_peaks\"] = True"
   ]
  },
  {
   "cell_type": "code",
   "execution_count": null,
   "metadata": {},
   "outputs": [],
   "source": [
    "likelihood_fit.migrad()"
   ]
  },
  {
   "cell_type": "code",
   "execution_count": null,
   "metadata": {},
   "outputs": [],
   "source": [
    "x_plot = np.linspace(0, max(charges), 1000)"
   ]
  },
  {
   "cell_type": "code",
   "execution_count": null,
   "metadata": {},
   "outputs": [],
   "source": [
    "plt.figure()\n",
    "plt.plot(x_plot, scale*spectrum_pdf(x_plot, *likelihood_fit.values), color=\"magenta\")\n",
    "[n, bins, patches] = plt.hist(charges, bins=1000, edgecolor=\"none\", density=True, alpha=0.75)\n",
    "#plt.plot(x_plot, spectrum_pdf(x_plot, A0=1e-3, B0=0.5, B1=0.15, tau=4e-2, b=2, \n",
    "#                        sigma_0=sigma_0[0], sigma_1=sigma_1[0], x0=x0[0], \n",
    "#                        gain=gain[0], rate_0=1, rate_1=10, num_peaks=5), color=\"orange\")\n",
    "plt.xlabel(\"Charge (pC)\")\n",
    "plt.ylabel(\"Norm Counts\")\n",
    "plt.ylim(1e-3, 1e2)\n",
    "plt.yscale(\"log\")"
   ]
  },
  {
   "cell_type": "code",
   "execution_count": null,
   "metadata": {},
   "outputs": [],
   "source": [
    "likelihood_fit.values"
   ]
  },
  {
   "cell_type": "code",
   "execution_count": null,
   "metadata": {},
   "outputs": [],
   "source": [
    "gain_magnitude = likelihood_fit.values[\"gain\"]*1e-12 / const.e\n",
    "gain_magnitude"
   ]
  },
  {
   "cell_type": "code",
   "execution_count": null,
   "metadata": {},
   "outputs": [],
   "source": [
    "likelihood_fit.errors[\"gain\"]*1e-12 / const.e"
   ]
  },
  {
   "cell_type": "code",
   "execution_count": null,
   "metadata": {},
   "outputs": [],
   "source": [
    "t2_sipm_file = h5py.File(t2_file, \"r\")"
   ]
  },
  {
   "cell_type": "code",
   "execution_count": null,
   "metadata": {},
   "outputs": [],
   "source": [
    "t2_waveforms = t2_sipm_file[\"/processed/waveforms\"][:]\n",
    "t2_sipm_file.close()"
   ]
  },
  {
   "cell_type": "code",
   "execution_count": null,
   "metadata": {},
   "outputs": [],
   "source": [
    "plt.figure()\n",
    "plt.plot(t2_waveforms[4])"
   ]
  },
  {
   "cell_type": "code",
   "execution_count": null,
   "metadata": {},
   "outputs": [],
   "source": [
    "def wave_peaks(waveforms, height=500, distance=5):\n",
    "    all_peaks = []\n",
    "    all_heights = []\n",
    "    for waveform in tqdm(waveforms, total=len(waveforms)):\n",
    "        peak_loc = find_peaks(waveform, height=height, distance=distance)[0]\n",
    "        if len(peak_loc) > 0:\n",
    "            if peak_loc[0] < 60:\n",
    "                all_peaks.append(peak_loc[0])\n",
    "                all_heights.append(waveform[peak_loc][0])\n",
    "    return np.asarray(all_peaks, dtype=object), np.asarray(all_heights, dtype=object)\n",
    "\n",
    "def amplitudes(heights):\n",
    "    amps = []\n",
    "    for i, height in tqdm(enumerate(heights), total=len(heights)):\n",
    "        amps += list(height)\n",
    "    return np.array(amps)\n",
    "\n",
    "def waveform_maxes(waveforms, start=35, stop=80):\n",
    "    section = waveforms.T[start:stop]\n",
    "    return np.amax(section, axis=0)"
   ]
  },
  {
   "cell_type": "code",
   "execution_count": null,
   "metadata": {},
   "outputs": [],
   "source": [
    "all_peaks, all_heights = wave_peaks(t2_waveforms, 1800, distance=100)\n",
    "#all_heights = waveform_maxes(t2_waveforms)\n",
    "#all_heights = all_heights[all_heights > 382]"
   ]
  },
  {
   "cell_type": "code",
   "execution_count": null,
   "metadata": {},
   "outputs": [],
   "source": [
    "plt.figure()\n",
    "[n, bins, patches] = plt.hist(all_heights, bins=1000, edgecolor=\"none\", density=True, alpha=0.75)\n",
    "plt.xlabel(\"Amplitude (A. U.)\")\n",
    "plt.ylabel(\"Norm Counts\")\n",
    "#plt.xlim(-0.1, 0.5)\n",
    "plt.yscale(\"log\")"
   ]
  },
  {
   "cell_type": "code",
   "execution_count": null,
   "metadata": {},
   "outputs": [],
   "source": [
    "bin_centers = (bins[:-1] + bins[1:]) / 2\n",
    "n_centers = n\n",
    "bin_centers = bin_centers\n",
    "bin_width = bins[1] - bins[0]\n",
    "scale = np.sum(n_centers)*bin_width"
   ]
  },
  {
   "cell_type": "code",
   "execution_count": null,
   "metadata": {},
   "outputs": [],
   "source": [
    "peaks, props = find_peaks(n, height=1e-5, distance=20)"
   ]
  },
  {
   "cell_type": "code",
   "execution_count": null,
   "metadata": {},
   "outputs": [],
   "source": [
    "props[\"peak_heights\"]"
   ]
  },
  {
   "cell_type": "code",
   "execution_count": null,
   "metadata": {},
   "outputs": [],
   "source": [
    "plt.figure()\n",
    "[n, bins, patches] = plt.hist(all_heights, bins=1000, edgecolor=\"none\", density=True, alpha=0.75)\n",
    "plt.scatter(bin_centers[peaks], props[\"peak_heights\"], c=\"red\")\n",
    "plt.xlabel(\"Charge (A. U.)\")\n",
    "plt.ylabel(\"Norm Counts\")\n",
    "#plt.xlim(-0.1, 0.5)\n",
    "plt.yscale(\"log\")"
   ]
  },
  {
   "cell_type": "code",
   "execution_count": null,
   "metadata": {},
   "outputs": [],
   "source": [
    "x0, A0, gain, sigma_0, sigma_1, A_exp, tau = guess_params_height(bin_centers, n_centers, peaks, props, show=False)"
   ]
  },
  {
   "cell_type": "code",
   "execution_count": null,
   "metadata": {},
   "outputs": [],
   "source": []
  },
  {
   "cell_type": "code",
   "execution_count": null,
   "metadata": {},
   "outputs": [],
   "source": [
    "likelihood = UnbinnedNLL(all_heights, pdf=height_pdf)"
   ]
  },
  {
   "cell_type": "code",
   "execution_count": null,
   "metadata": {},
   "outputs": [],
   "source": [
    "likelihood_fit = Minuit(likelihood, B1=0, tau=tau[0], b=A_exp[0], \n",
    "                        sigma_0=sigma_0[0], sigma_1=sigma_1[0], x0=x0, \n",
    "                        gain=gain[0], rate_1=1, num_peaks=7)"
   ]
  },
  {
   "cell_type": "code",
   "execution_count": null,
   "metadata": {},
   "outputs": [],
   "source": [
    "likelihood_fit.limits[\"x0\"] = (-1e3, 500)\n",
    "likelihood_fit.limits[\"gain\"] = (gain[1], gain[2])\n",
    "likelihood_fit.limits[\"sigma_0\"] = [sigma_0[1], sigma_0[2]]\n",
    "likelihood_fit.limits[\"sigma_1\"] = [sigma_1[1], sigma_1[2]]\n",
    "likelihood_fit.limits[\"tau\"] = [1e-6, 3e3]\n",
    "likelihood_fit.limits[\"b\"] = [0, 1e4]\n",
    "likelihood_fit.fixed[\"B1\"] = True\n",
    "likelihood_fit.fixed[\"num_peaks\"] = True\n",
    "likelihood_fit.fixed[\"rate_1\"] = True"
   ]
  },
  {
   "cell_type": "code",
   "execution_count": null,
   "metadata": {},
   "outputs": [],
   "source": [
    "likelihood_fit.migrad()"
   ]
  },
  {
   "cell_type": "code",
   "execution_count": null,
   "metadata": {},
   "outputs": [],
   "source": [
    "plt.figure()\n",
    "num_range = 15000\n",
    "x_plot = np.linspace(0, num_range, num_range)\n",
    "[n, bins, patches] = plt.hist(all_heights, bins=1000, edgecolor=\"none\", alpha=0.75, density=True)\n",
    "plt.plot(x_plot, height_pdf(x_plot, *likelihood_fit.values), color=\"magenta\")\n",
    "plt.xlabel(\"Amplitudes (A. U.)\")\n",
    "plt.ylabel(\"Norm Counts\")\n",
    "plt.yscale(\"log\")\n",
    "plt.ylim(1e-6, 1e-1)"
   ]
  },
  {
   "cell_type": "code",
   "execution_count": null,
   "metadata": {},
   "outputs": [],
   "source": [
    "likelihood_fit.values"
   ]
  },
  {
   "cell_type": "code",
   "execution_count": null,
   "metadata": {},
   "outputs": [],
   "source": [
    "def waveform_calibration(waveforms, x0, gain):\n",
    "    return (waveforms - x0) / gain"
   ]
  },
  {
   "cell_type": "code",
   "execution_count": null,
   "metadata": {},
   "outputs": [],
   "source": [
    "#plt.close(\"all\")"
   ]
  },
  {
   "cell_type": "code",
   "execution_count": null,
   "metadata": {},
   "outputs": [],
   "source": [
    "norm_waveforms = waveform_calibration(t2_waveforms, likelihood_fit.values[\"x0\"], likelihood_fit.values[\"gain\"])\n",
    "norm_heights = waveform_calibration(all_heights, likelihood_fit.values[\"x0\"], likelihood_fit.values[\"gain\"])"
   ]
  },
  {
   "cell_type": "code",
   "execution_count": null,
   "metadata": {},
   "outputs": [],
   "source": [
    "plt.figure()\n",
    "plt.plot(norm_waveforms[4])"
   ]
  },
  {
   "cell_type": "code",
   "execution_count": null,
   "metadata": {},
   "outputs": [],
   "source": [
    "plt.figure()\n",
    "[n, bins, patches] = plt.hist(norm_heights, bins=1000, edgecolor=\"none\", density=True, alpha=0.75)\n",
    "plt.xlabel(\"Amplitude (A. U.)\")\n",
    "plt.ylabel(\"Norm Counts\")\n",
    "#plt.xlim(-0.1, 0.5)\n",
    "plt.yscale(\"log\")"
   ]
  },
  {
   "cell_type": "code",
   "execution_count": null,
   "metadata": {},
   "outputs": [],
   "source": [
    "append_to_file(t2_file, \"gain\", gain_magnitude)\n",
    "append_to_file(t1_file, \"gain\", gain_magnitude)\n",
    "overwrite_to_file(t2_file, \"/processed/waveforms\", norm_waveforms)"
   ]
  },
  {
   "cell_type": "code",
   "execution_count": null,
   "metadata": {},
   "outputs": [],
   "source": [
    "#append_to_file(t2_file, \"gain\", 2340888.1583642513)"
   ]
  },
  {
   "cell_type": "code",
   "execution_count": null,
   "metadata": {},
   "outputs": [],
   "source": []
  }
 ],
 "metadata": {
  "kernelspec": {
   "display_name": "Python 3",
   "language": "python",
   "name": "python3"
  },
  "language_info": {
   "codemirror_mode": {
    "name": "ipython",
    "version": 3
   },
   "file_extension": ".py",
   "mimetype": "text/x-python",
   "name": "python",
   "nbconvert_exporter": "python",
   "pygments_lexer": "ipython3",
   "version": "3.8.5"
  }
 },
 "nbformat": 4,
 "nbformat_minor": 4
}
