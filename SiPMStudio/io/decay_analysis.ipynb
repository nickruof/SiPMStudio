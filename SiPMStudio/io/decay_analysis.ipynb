{
 "cells": [
  {
   "cell_type": "code",
   "execution_count": 15,
   "id": "a942001c-b87b-4f25-905a-3a7f7b6f81cc",
   "metadata": {},
   "outputs": [],
   "source": [
    "%matplotlib widget\n",
    "import os\n",
    "import h5py\n",
    "import json\n",
    "import glob\n",
    "import numpy as np\n",
    "import matplotlib.pyplot as plt\n",
    "import seaborn as sns\n",
    "\n",
    "from scipy.signal import find_peaks\n",
    "from scipy.optimize import curve_fit\n",
    "\n",
    "from tqdm.notebook import tqdm"
   ]
  },
  {
   "cell_type": "code",
   "execution_count": 2,
   "id": "f9ce5b5d-2ad7-4180-9729-0bdba05c1d90",
   "metadata": {},
   "outputs": [],
   "source": [
    "data_path = os.path.join(\"/Volumes\", \"TOSHIBA_EXT\", \"sipm_data_2\", \"ketek_box\", \"ketek_room2\", \"t2_v2\")\n",
    "json_path = os.path.join(\"/Volumes\", \"TOSHIBA_EXT\", \"sipm_data_2\", \"ketek_box\", \"ketek_room2\", \"ketek_room2_reprocs.json\")\n",
    "save_path = os.path.join(\"/Volumes\", \"TOSHIBA_EXT\", \"sipm_data_2\", \"ketek_box\", \"ketek_room2\", \"plots\", \"decay_constants\")"
   ]
  },
  {
   "cell_type": "code",
   "execution_count": 3,
   "id": "92422afe-43bf-48b2-b32b-034680a116a8",
   "metadata": {},
   "outputs": [
    {
     "data": {
      "text/plain": [
       "['/Volumes/TOSHIBA_EXT/sipm_data_2/ketek_box/ketek_room2/t2_v2/t2_ketek_room2_25.h5',\n",
       " '/Volumes/TOSHIBA_EXT/sipm_data_2/ketek_box/ketek_room2/t2_v2/t2_ketek_room2_26.h5',\n",
       " '/Volumes/TOSHIBA_EXT/sipm_data_2/ketek_box/ketek_room2/t2_v2/t2_ketek_room2_27.h5',\n",
       " '/Volumes/TOSHIBA_EXT/sipm_data_2/ketek_box/ketek_room2/t2_v2/t2_ketek_room2_28.h5',\n",
       " '/Volumes/TOSHIBA_EXT/sipm_data_2/ketek_box/ketek_room2/t2_v2/t2_ketek_room2_29.h5',\n",
       " '/Volumes/TOSHIBA_EXT/sipm_data_2/ketek_box/ketek_room2/t2_v2/t2_ketek_room2_30.h5']"
      ]
     },
     "execution_count": 3,
     "metadata": {},
     "output_type": "execute_result"
    }
   ],
   "source": [
    "file_list = glob.glob(f\"{data_path}/*.h5\")\n",
    "file_list"
   ]
  },
  {
   "cell_type": "code",
   "execution_count": 4,
   "id": "bbbc6bd9-fab8-4ee2-b301-5b43a7725df8",
   "metadata": {},
   "outputs": [],
   "source": [
    "file_num = 3"
   ]
  },
  {
   "cell_type": "code",
   "execution_count": 32,
   "id": "87e9a279-d853-4a4e-a972-21d62a7b9fb9",
   "metadata": {},
   "outputs": [],
   "source": [
    "def exp_charge(x, A, x0, tau):\n",
    "    result = A*(1 - np.exp(-(x-x0)/tau))\n",
    "    result[result < 0] = 0\n",
    "    return result\n",
    "\n",
    "def double_exp_release(x, x0, A1, A2, b1, b2):\n",
    "    return A1*np.exp(-(x-x0)/b1) + A2*np.exp(-(x-x0)/b2)\n",
    "\n",
    "def time_constants(times, one_waves, lback=10, lfor=500, height=500, distance=100):\n",
    "    short_taus = []\n",
    "    long_taus = []\n",
    "    charge_taus = []\n",
    "    for i, wave in tqdm(enumerate(one_waves), total=len(one_waves)):\n",
    "        peak_info = find_peaks(wave, height=height, distance=distance, width=4)\n",
    "        if (len(peak_info[0]) > 1) | (len(peak_info[0]) == 0): continue\n",
    "        charge_time, release_time = times[peak_info[0][0]-lback:peak_info[0][0]], times[peak_info[0][0]:lfor]\n",
    "        charge_form, release_form = wave[peak_info[0][0]-lback:peak_info[0][0]], wave[peak_info[0][0]:lfor]\n",
    "        if (len(charge_form) == 0) | (len(release_form) == 0): continue\n",
    "        try:\n",
    "            release_coeffs, release_cov = curve_fit(double_exp_release, release_time, release_form, p0=[50, 200, 5e6, 500, 7])\n",
    "            charge_coeffs, charge_cov = curve_fit(exp_charge, charge_time, charge_form, p0=[600, 92, 5])\n",
    "            short_taus.append(min(release_coeffs[-1], release_coeffs[-2]))\n",
    "            long_taus.append(max(release_coeffs[-1], release_coeffs[-2]))\n",
    "            charge_taus.append(charge_coeffs[-1])\n",
    "        except RuntimeError:\n",
    "            continue\n",
    "    return np.array(short_taus), np.array(long_taus), np.array(charge_taus)"
   ]
  },
  {
   "cell_type": "code",
   "execution_count": 6,
   "id": "7a9b77d0-16ff-43a6-81eb-69f359911a08",
   "metadata": {},
   "outputs": [],
   "source": [
    "h5_file = h5py.File(file_list[file_num], \"r\")\n",
    "waveforms = h5_file[\"/processed/blr_wf\"][:]\n",
    "norm_charges = h5_file[\"/processed/norm_charge\"][:]\n",
    "one_waves = waveforms[(norm_charges > 0.90) & (norm_charges < 1.10)]"
   ]
  },
  {
   "cell_type": "code",
   "execution_count": 9,
   "id": "ffc30df9-18d6-4538-a775-b05a612da31e",
   "metadata": {},
   "outputs": [],
   "source": [
    "time = np.arange(0, h5_file[\"/processed/blr_wf\"].shape[1])*h5_file[\"/raw/dt\"][()]"
   ]
  },
  {
   "cell_type": "code",
   "execution_count": 12,
   "id": "1994d9b5-1403-44da-90bb-ad75fda7f7a8",
   "metadata": {},
   "outputs": [
    {
     "data": {
      "application/vnd.jupyter.widget-view+json": {
       "model_id": "d61e827e5421442589b1b260c15f265b",
       "version_major": 2,
       "version_minor": 0
      },
      "text/plain": [
       "Canvas(toolbar=Toolbar(toolitems=[('Home', 'Reset original view', 'home', 'home'), ('Back', 'Back to previous …"
      ]
     },
     "metadata": {},
     "output_type": "display_data"
    },
    {
     "data": {
      "text/plain": [
       "Text(0, 0.5, 'Amplitude (ADC)')"
      ]
     },
     "execution_count": 12,
     "metadata": {},
     "output_type": "execute_result"
    }
   ],
   "source": [
    "plt.figure()\n",
    "for i in range(0, 100):\n",
    "    plt.plot(time[0:500], one_waves[i][0:500], alpha=0.15)\n",
    "plt.xlabel(\"Time (ns)\")\n",
    "plt.ylabel(\"Amplitude (ADC)\")"
   ]
  },
  {
   "cell_type": "code",
   "execution_count": 33,
   "id": "787bbff2-ff9b-4f4c-afd3-2d9f780171e6",
   "metadata": {},
   "outputs": [
    {
     "data": {
      "application/vnd.jupyter.widget-view+json": {
       "model_id": "e6c27ed8eee148d29df1de4c46c42eee",
       "version_major": 2,
       "version_minor": 0
      },
      "text/plain": [
       "HBox(children=(FloatProgress(value=0.0, max=82105.0), HTML(value='')))"
      ]
     },
     "metadata": {},
     "output_type": "display_data"
    },
    {
     "name": "stderr",
     "output_type": "stream",
     "text": [
      "<ipython-input-32-7a36c17fd79b>:7: RuntimeWarning: overflow encountered in exp\n",
      "  return A1*np.exp(-(x-x0)/b1) + A2*np.exp(-(x-x0)/b2)\n",
      "/usr/local/lib/python3.8/site-packages/scipy/optimize/minpack.py:828: OptimizeWarning: Covariance of the parameters could not be estimated\n",
      "  warnings.warn('Covariance of the parameters could not be estimated',\n",
      "<ipython-input-32-7a36c17fd79b>:7: RuntimeWarning: overflow encountered in multiply\n",
      "  return A1*np.exp(-(x-x0)/b1) + A2*np.exp(-(x-x0)/b2)\n",
      "<ipython-input-32-7a36c17fd79b>:2: RuntimeWarning: overflow encountered in exp\n",
      "  result = A*(1 - np.exp(-(x-x0)/tau))\n"
     ]
    },
    {
     "name": "stdout",
     "output_type": "stream",
     "text": [
      "\n"
     ]
    }
   ],
   "source": [
    "shorts, longs, charge_ups = time_constants(time, one_waves)"
   ]
  },
  {
   "cell_type": "code",
   "execution_count": 39,
   "id": "1bb64357-0bd6-4bf4-b9b0-608fb91f3a7b",
   "metadata": {},
   "outputs": [
    {
     "data": {
      "application/vnd.jupyter.widget-view+json": {
       "model_id": "b4ce53eaeea742aab707fd371a37f656",
       "version_major": 2,
       "version_minor": 0
      },
      "text/plain": [
       "Canvas(toolbar=Toolbar(toolitems=[('Home', 'Reset original view', 'home', 'home'), ('Back', 'Back to previous …"
      ]
     },
     "metadata": {},
     "output_type": "display_data"
    }
   ],
   "source": [
    "fig, ax = plt.subplots(2, 1)\n",
    "n, bins, patches = ax[0].hist(shorts[shorts < 1000], bins=1000, histtype=\"stepfilled\", alpha=0.15, color=sns.color_palette()[0])\n",
    "n, bins, patches = ax[0].hist(shorts[shorts < 1000], bins=1000, histtype=\"step\", color=sns.color_palette()[0])\n",
    "ax[0].set_xlabel(\"Time Constant (ns)\")\n",
    "ax[0].set_ylabel(\"Counts\")\n",
    "ax[0].set_title(\"Short Decay\")\n",
    "\n",
    "n, bins, patches = ax[1].hist(longs[longs < 100], bins=1000, histtype=\"stepfilled\", alpha=0.15, color=sns.color_palette()[1])\n",
    "n, bins, patches = ax[1].hist(longs[longs < 100], bins=1000, histtype=\"step\", color=sns.color_palette()[1])\n",
    "ax[1].set_xlabel(\"Time Constant (ns)\")\n",
    "ax[1].set_ylabel(\"Counts\")\n",
    "ax[1].set_title(\"Long Decay\")\n",
    "\n",
    "plt.tight_layout()\n",
    "plt.savefig(f\"{save_path}/fit_constants.png\", dpi=600)"
   ]
  },
  {
   "cell_type": "code",
   "execution_count": 40,
   "id": "cd42a402-a620-40a8-87b2-b3bb6ad3fd91",
   "metadata": {},
   "outputs": [],
   "source": [
    "def write_to_json(json_name, h5_file_name, short_tau, long_tau):\n",
    "    head, tail = os.path.split(h5_file_name)\n",
    "    reproc_dict = None\n",
    "    with open(json_name, \"r\") as json_file:\n",
    "        reproc_dict = json.load(json_file)\n",
    "    \n",
    "    reproc_dict[\"processes\"][\"fit_waveforms\"][tail][\"wf_in\"] = \"/processed/blr_wf\"\n",
    "    reproc_dict[\"processes\"][\"fit_waveforms\"][tail][\"wf_out\"] = \"/processed/fit_wf\"\n",
    "    reproc_dict[\"processes\"][\"fit_waveforms\"][tail][\"short_tau\"] = short_tau\n",
    "    reproc_dict[\"processes\"][\"fit_waveforms\"][tail][\"long_tau\"] = long_tau\n",
    "    reproc_dict[\"processes\"][\"fit_waveforms\"][tail][\"charge_up\"] = short_tau\n",
    "    \n",
    "    with open(json_name, \"w\") as json_file:\n",
    "        json.dump(reproc_dict, json_file, indent=4)"
   ]
  },
  {
   "cell_type": "code",
   "execution_count": 60,
   "id": "9f0b8ac4-e703-47ad-b0c8-4b4500b5c347",
   "metadata": {},
   "outputs": [],
   "source": [
    "for file in file_list:\n",
    "    write_to_json(json_path, file, [5, 4.9, 5.1], [60, 59.9, 60.1])"
   ]
  },
  {
   "cell_type": "code",
   "execution_count": 45,
   "id": "2eaf7846-b04a-443b-a5e2-0ef5e908615f",
   "metadata": {},
   "outputs": [],
   "source": [
    "h5_file.close()"
   ]
  }
 ],
 "metadata": {
  "kernelspec": {
   "display_name": "Python 3",
   "language": "python",
   "name": "python3"
  },
  "language_info": {
   "codemirror_mode": {
    "name": "ipython",
    "version": 3
   },
   "file_extension": ".py",
   "mimetype": "text/x-python",
   "name": "python",
   "nbconvert_exporter": "python",
   "pygments_lexer": "ipython3",
   "version": "3.8.10"
  }
 },
 "nbformat": 4,
 "nbformat_minor": 5
}
