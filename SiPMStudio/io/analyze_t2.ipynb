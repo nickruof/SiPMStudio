{
 "cells": [
  {
   "cell_type": "code",
   "execution_count": 1,
   "metadata": {},
   "outputs": [],
   "source": [
    "%matplotlib widget\n",
    "\n",
    "import os\n",
    "import glob\n",
    "import json\n",
    "import h5py\n",
    "import numpy as np\n",
    "import matplotlib.pyplot as plt\n",
    "import seaborn as sns\n",
    "\n",
    "from uncertainties import unumpy\n",
    "\n",
    "from SiPMStudio.processing.transforms import baseline_subtract\n",
    "\n",
    "from SiPMStudio.analysis.dark import current_waveforms\n",
    "from SiPMStudio.analysis.dark import integrate_current\n",
    "from SiPMStudio.analysis.dark import spectrum_peaks\n",
    "from SiPMStudio.analysis.dark import gain\n",
    "from SiPMStudio.analysis.dark import wave_peaks\n",
    "from SiPMStudio.analysis.dark import amplitudes\n",
    "from SiPMStudio.analysis.dark import dark_count_rate\n",
    "from SiPMStudio.analysis.dark import cross_talk_frac\n",
    "from SiPMStudio.analysis.dark import afterpulsing_frac\n",
    "from SiPMStudio.analysis.dark import waveform_find"
   ]
  },
  {
   "cell_type": "code",
   "execution_count": 2,
   "metadata": {},
   "outputs": [],
   "source": [
    "def append_to_file(file, dataname, data):\n",
    "    with h5py.File(file, \"a\") as h5_file:\n",
    "        h5_file.create_dataset(dataname, data=data)\n",
    "        \n",
    "def overwrite_to_file(file, dataname, data):\n",
    "    with h5py.File(file, \"r+\") as h5_file:\n",
    "        del h5_file[dataname]\n",
    "        h5_file.create_dataset(dataname, data=data)"
   ]
  },
  {
   "cell_type": "code",
   "execution_count": 3,
   "metadata": {},
   "outputs": [],
   "source": [
    "path = \"/Volumes/TOSHIBA_EXT/sipm_data_2/ketek_box/ketek_cold1\"\n",
    "t2_path = os.path.join(path, \"t2\")\n",
    "t2_files = glob.glob(t2_path+\"/*.h5\")\n",
    "\n",
    "save_path = os.path.join(path, \"plots\")"
   ]
  },
  {
   "cell_type": "code",
   "execution_count": 4,
   "metadata": {},
   "outputs": [
    {
     "data": {
      "text/plain": [
       "['/Volumes/TOSHIBA_EXT/sipm_data_2/ketek_box/ketek_cold1/t2/t2_ketek_cold1_23.h5',\n",
       " '/Volumes/TOSHIBA_EXT/sipm_data_2/ketek_box/ketek_cold1/t2/t2_ketek_cold1_24.h5',\n",
       " '/Volumes/TOSHIBA_EXT/sipm_data_2/ketek_box/ketek_cold1/t2/t2_ketek_cold1_25.h5',\n",
       " '/Volumes/TOSHIBA_EXT/sipm_data_2/ketek_box/ketek_cold1/t2/t2_ketek_cold1_26.h5',\n",
       " '/Volumes/TOSHIBA_EXT/sipm_data_2/ketek_box/ketek_cold1/t2/t2_ketek_cold1_27.h5',\n",
       " '/Volumes/TOSHIBA_EXT/sipm_data_2/ketek_box/ketek_cold1/t2/t2_ketek_cold1_28.h5']"
      ]
     },
     "execution_count": 4,
     "metadata": {},
     "output_type": "execute_result"
    }
   ],
   "source": [
    "t2_files"
   ]
  },
  {
   "cell_type": "code",
   "execution_count": 5,
   "metadata": {},
   "outputs": [],
   "source": [
    "file_number = 5\n",
    "sipm_file = h5py.File(t2_files[file_number], \"r\")\n",
    "#print(sipm_file.keys())\n",
    "waveforms = sipm_file[\"/processed/waveforms\"][:]\n",
    "times = sipm_file[\"/processed/timetag\"][:] / 1000\n",
    "bias = sipm_file[\"bias\"][()]\n",
    "sipm_file.close()"
   ]
  },
  {
   "cell_type": "code",
   "execution_count": 6,
   "metadata": {},
   "outputs": [
    {
     "name": "stderr",
     "output_type": "stream",
     "text": [
      "100%|██████████| 334407/334407 [00:22<00:00, 14832.50it/s]\n"
     ]
    }
   ],
   "source": [
    "peaks, heights = wave_peaks(waveforms, height=0.50, distance=10)"
   ]
  },
  {
   "cell_type": "code",
   "execution_count": null,
   "metadata": {},
   "outputs": [],
   "source": []
  },
  {
   "cell_type": "code",
   "execution_count": 7,
   "metadata": {},
   "outputs": [
    {
     "data": {
      "application/vnd.jupyter.widget-view+json": {
       "model_id": "ec0f7501f5bb4727abd87fe5fd286ff0",
       "version_major": 2,
       "version_minor": 0
      },
      "text/plain": [
       "Canvas(toolbar=Toolbar(toolitems=[('Home', 'Reset original view', 'home', 'home'), ('Back', 'Back to previous …"
      ]
     },
     "metadata": {},
     "output_type": "display_data"
    },
    {
     "data": {
      "text/plain": [
       "[<matplotlib.lines.Line2D at 0x131c58af0>]"
      ]
     },
     "execution_count": 7,
     "metadata": {},
     "output_type": "execute_result"
    }
   ],
   "source": [
    "plt.figure()\n",
    "plt.plot(waveforms[3])"
   ]
  },
  {
   "cell_type": "code",
   "execution_count": 8,
   "metadata": {},
   "outputs": [
    {
     "name": "stderr",
     "output_type": "stream",
     "text": [
      "100%|██████████| 334407/334407 [00:03<00:00, 89765.45it/s]\n"
     ]
    },
    {
     "data": {
      "application/vnd.jupyter.widget-view+json": {
       "model_id": "acdaa553237b45e484b2bdeaa61cf939",
       "version_major": 2,
       "version_minor": 0
      },
      "text/plain": [
       "Canvas(toolbar=Toolbar(toolitems=[('Home', 'Reset original view', 'home', 'home'), ('Back', 'Back to previous …"
      ]
     },
     "metadata": {},
     "output_type": "display_data"
    }
   ],
   "source": [
    "dark_rate = dark_count_rate(waveforms, times, peaks, heights, exclude=None, region=[4e4, 1e6], display=True)\n",
    "dark_rate\n",
    "plt.savefig(os.path.join(save_path, \"dark_count_rate_\"+str(bias)+\".png\"), dpi=600)"
   ]
  },
  {
   "cell_type": "code",
   "execution_count": 9,
   "metadata": {},
   "outputs": [
    {
     "name": "stderr",
     "output_type": "stream",
     "text": [
      "100%|██████████| 334407/334407 [00:00<00:00, 925576.42it/s]\n"
     ]
    },
    {
     "data": {
      "text/plain": [
       "0.41583315380748676"
      ]
     },
     "execution_count": 9,
     "metadata": {},
     "output_type": "execute_result"
    }
   ],
   "source": [
    "cross_talk_output = cross_talk_frac(heights)\n",
    "cross_talk_output"
   ]
  },
  {
   "cell_type": "code",
   "execution_count": 10,
   "metadata": {},
   "outputs": [
    {
     "name": "stderr",
     "output_type": "stream",
     "text": [
      "100%|██████████| 334407/334407 [00:23<00:00, 14384.72it/s]\n"
     ]
    }
   ],
   "source": [
    "new_peaks, new_heights = wave_peaks(waveforms, height=0.25, distance=5)"
   ]
  },
  {
   "cell_type": "code",
   "execution_count": 11,
   "metadata": {},
   "outputs": [
    {
     "name": "stderr",
     "output_type": "stream",
     "text": [
      "100%|██████████| 334407/334407 [00:00<00:00, 657150.96it/s]\n",
      "/usr/local/lib/python3.8/site-packages/scipy/optimize/minpack.py:828: OptimizeWarning: Covariance of the parameters could not be estimated\n",
      "  warnings.warn('Covariance of the parameters could not be estimated',\n"
     ]
    },
    {
     "data": {
      "application/vnd.jupyter.widget-view+json": {
       "model_id": "d2797fc976be4b1aa7d45a5e2748a9ba",
       "version_major": 2,
       "version_minor": 0
      },
      "text/plain": [
       "Canvas(toolbar=Toolbar(toolitems=[('Home', 'Reset original view', 'home', 'home'), ('Back', 'Back to previous …"
      ]
     },
     "metadata": {},
     "output_type": "display_data"
    },
    {
     "name": "stdout",
     "output_type": "stream",
     "text": [
      "3.887478431970623e-05 0.831785576497535\n"
     ]
    }
   ],
   "source": [
    "after_pulse, t_rec = afterpulsing_frac(waveforms, new_peaks, new_heights, display=True, fit_range=[[25, 1600], [0.35, 0.99]])\n",
    "print(after_pulse, t_rec)"
   ]
  },
  {
   "cell_type": "code",
   "execution_count": 12,
   "metadata": {},
   "outputs": [
    {
     "name": "stderr",
     "output_type": "stream",
     "text": [
      "100%|██████████| 334407/334407 [00:00<00:00, 646778.26it/s]\n"
     ]
    },
    {
     "data": {
      "text/plain": [
       "3.887478431970623e-05"
      ]
     },
     "execution_count": 12,
     "metadata": {},
     "output_type": "execute_result"
    }
   ],
   "source": [
    "finder_waveforms, finder_peaks, finder_heights = waveform_find(waveforms, new_peaks, new_heights, len(waveforms), [25, 1600], [0.35, 0.99])\n",
    "after_pulse = len(finder_waveforms) / len(waveforms)\n",
    "after_pulse"
   ]
  },
  {
   "cell_type": "code",
   "execution_count": 13,
   "metadata": {},
   "outputs": [
    {
     "data": {
      "application/vnd.jupyter.widget-view+json": {
       "model_id": "baee3b72f12e4d579aec137a584f19ad",
       "version_major": 2,
       "version_minor": 0
      },
      "text/plain": [
       "Canvas(toolbar=Toolbar(toolitems=[('Home', 'Reset original view', 'home', 'home'), ('Back', 'Back to previous …"
      ]
     },
     "metadata": {},
     "output_type": "display_data"
    }
   ],
   "source": [
    "t_plot = np.linspace(0, 2*len(finder_waveforms[0]), len(finder_waveforms[0]))\n",
    "plt.figure()\n",
    "for wave in finder_waveforms:\n",
    "    plt.plot(t_plot[0:800], wave[0:800], alpha=0.25)\n",
    "plt.xlabel(\"Time (ns)\")\n",
    "plt.ylabel(\"P.E.\")\n",
    "plt.grid(alpha=0.25)\n",
    "plt.savefig(os.path.join(save_path, \"afterpulse_\"+str(bias)+\".png\"), dpi=600)"
   ]
  },
  {
   "cell_type": "code",
   "execution_count": 14,
   "metadata": {},
   "outputs": [],
   "source": [
    "append_to_file(t2_files[file_number], \"dark_rate\", [dark_rate[0], dark_rate[1]])\n",
    "append_to_file(t2_files[file_number], \"cross_talk\", cross_talk_output)"
   ]
  },
  {
   "cell_type": "code",
   "execution_count": null,
   "metadata": {},
   "outputs": [],
   "source": [
    "append_to_file(t2_files[file_number], \"afterpulse\", after_pulse)\n",
    "append_to_file(t2_files[file_number], \"t_rec\", t_rec)"
   ]
  },
  {
   "cell_type": "code",
   "execution_count": 15,
   "metadata": {},
   "outputs": [],
   "source": [
    "append_to_file(t2_files[file_number], \"afterpulse\", 0)\n",
    "append_to_file(t2_files[file_number], \"t_rec\", 0)"
   ]
  },
  {
   "cell_type": "code",
   "execution_count": null,
   "metadata": {},
   "outputs": [],
   "source": []
  }
 ],
 "metadata": {
  "kernelspec": {
   "display_name": "Python 3",
   "language": "python",
   "name": "python3"
  },
  "language_info": {
   "codemirror_mode": {
    "name": "ipython",
    "version": 3
   },
   "file_extension": ".py",
   "mimetype": "text/x-python",
   "name": "python",
   "nbconvert_exporter": "python",
   "pygments_lexer": "ipython3",
   "version": "3.8.5"
  }
 },
 "nbformat": 4,
 "nbformat_minor": 4
}
