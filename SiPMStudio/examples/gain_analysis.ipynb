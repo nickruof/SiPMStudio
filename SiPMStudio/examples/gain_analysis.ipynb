{
 "cells": [
  {
   "cell_type": "code",
   "execution_count": null,
   "id": "8074bca9-e69c-4462-858e-0499c540f3e9",
   "metadata": {},
   "outputs": [],
   "source": [
    "%matplotlib widget\n",
    "import os\n",
    "import h5py\n",
    "import json\n",
    "import glob\n",
    "import numpy as np\n",
    "import matplotlib.pyplot as plt\n",
    "import seaborn as sns\n",
    "\n",
    "from SiPMStudio.analysis.dark import current_waveforms\n",
    "from SiPMStudio.analysis.dark import integrate_current\n",
    "\n",
    "from scipy.signal import find_peaks\n",
    "from scipy.optimize import curve_fit"
   ]
  },
  {
   "cell_type": "code",
   "execution_count": null,
   "id": "6ef016d0-d49c-476a-aefa-652a4d87ddcc",
   "metadata": {},
   "outputs": [],
   "source": [
    "data_path = os.path.join(\"/Volumes\", \"TOSHIBA_EXT\", \"sipm_data_2\", \"ketek_box\", \"ketek_ln_12162021\", \"t2\")\n",
    "json_path = os.path.join(\"/Volumes\", \"TOSHIBA_EXT\", \"sipm_data_2\", \"ketek_box\", \"ketek_ln_12162021\", \"ketek_ln_reprocs_norm.json\")\n",
    "save_path = os.path.join(\"/Volumes\", \"TOSHIBA_EXT\", \"sipm_data_2\", \"ketek_box\", \"ketek_ln_12162021\", \"plots\", \"pe_spectrums\")\n",
    "\n",
    "if not os.path.exists(save_path):\n",
    "    os.makedirs(save_path)"
   ]
  },
  {
   "cell_type": "code",
   "execution_count": null,
   "id": "d46a35e8-94f0-4433-a727-bda0549fa5bb",
   "metadata": {},
   "outputs": [],
   "source": [
    "file_list = glob.glob(f\"{data_path}/*.h5\")\n",
    "file_list"
   ]
  },
  {
   "cell_type": "code",
   "execution_count": null,
   "id": "c121694f-4583-4807-8dc6-9429912f2234",
   "metadata": {},
   "outputs": [],
   "source": [
    "file_num = 5"
   ]
  },
  {
   "cell_type": "code",
   "execution_count": null,
   "id": "7e4a3459-f736-4fce-abcc-fb575b53b3ff",
   "metadata": {},
   "outputs": [],
   "source": [
    "def gaussian(x, A, mu, sigma):\n",
    "    return A*np.exp(-(x - mu)**2/(2*sigma**2))\n",
    "\n",
    "def guess_peaks(n, bins, min_height, min_dist):\n",
    "    bin_width = bins[1] - bins[0]\n",
    "    min_bin_dist = min_dist / bin_width\n",
    "    peaks, amplitudes = find_peaks(n, height=min_height, distance=min_bin_dist)\n",
    "    return peaks, bins[peaks], amplitudes[\"peak_heights\"]\n",
    "\n",
    "def fit_peaks(n, bins, peaks, peak_locs, amplitudes, fit_width=15):\n",
    "    gauss_params = []\n",
    "    gauss_errors = []\n",
    "    bin_centers = (bins[1:] + bins[:-1]) / 2\n",
    "    sigma_guess = (peak_locs[1] - peak_locs[0])\n",
    "    for i, peak in enumerate(peaks):\n",
    "        left = peak-fit_width\n",
    "        right = peak+fit_width\n",
    "        if left < 0:\n",
    "            left = 0\n",
    "        coeffs, covs = curve_fit(gaussian, bin_centers[left: right], n[left: right], p0=[amplitudes[i], peak_locs[i], sigma_guess])\n",
    "        gauss_params.append(coeffs)\n",
    "        gauss_errors.append(np.sqrt(np.diag(covs)))\n",
    "    return gauss_params, gauss_errors\n",
    "\n",
    "def write_to_json(json_name, h5_file_name, gauss_params, gauss_errors):\n",
    "    head, tail = os.path.split(h5_file_name)\n",
    "    reproc_dict = None\n",
    "    with open(json_name, \"r\") as json_file:\n",
    "        reproc_dict = json.load(json_file)\n",
    "        \n",
    "    gauss_params_np = np.array(gauss_params).T\n",
    "    gauss_errors_np = np.array(gauss_errors).T\n",
    "    \n",
    "    reproc_dict[\"processes\"][\"normalize_charge\"][tail][\"peak_locs\"] = list(gauss_params_np[1])\n",
    "    reproc_dict[\"processes\"][\"normalize_charge\"][tail][\"peak_errors\"] = list(gauss_errors_np[1])\n",
    "    \n",
    "    with open(json_name, \"w\") as json_file:\n",
    "        json.dump(reproc_dict, json_file, indent=4)"
   ]
  },
  {
   "cell_type": "code",
   "execution_count": null,
   "id": "742b58a1-1a25-44a1-a28b-bd2efbd16db2",
   "metadata": {},
   "outputs": [],
   "source": [
    "test_file = h5py.File(file_list[file_num], \"r+\")"
   ]
  },
  {
   "cell_type": "code",
   "execution_count": null,
   "id": "ba5f04bc-4dd3-4bc9-9a87-2dc5464b2e09",
   "metadata": {},
   "outputs": [],
   "source": [
    "time = np.arange(0, test_file[\"/processed/channels/sipm/blr_wf\"].shape[1])*test_file[\"dt\"][()]\n",
    "waveforms = test_file[\"/processed/channels/sipm/blr_wf\"][:]\n",
    "adc_v = test_file[\"/processed/channels/sipm/adc_to_v\"][()]"
   ]
  },
  {
   "cell_type": "code",
   "execution_count": null,
   "id": "ab33c557-146d-450b-9c9f-9f6022623deb",
   "metadata": {},
   "outputs": [],
   "source": [
    "plt.figure()\n",
    "plt.plot(time, waveforms[100]*adc_v*1e3)\n",
    "plt.xlabel(\"Time (ns)\")\n",
    "plt.ylabel(\"Amplitude (mV)\")"
   ]
  },
  {
   "cell_type": "code",
   "execution_count": null,
   "id": "9b36c5ea-bcd6-40ba-a0b9-633286d7ab92",
   "metadata": {},
   "outputs": [],
   "source": [
    "charges = test_file[\"/processed/channels/sipm/charge\"][:]\n",
    "charges.shape"
   ]
  },
  {
   "cell_type": "code",
   "execution_count": null,
   "id": "cdeefd91-7404-47bf-925a-e25cd7af28b4",
   "metadata": {},
   "outputs": [],
   "source": [
    "plt.figure()\n",
    "n, bins, patches = plt.hist(charges, bins=1000, range=[-0.2e-12, 5e-12], histtype=\"step\", color=sns.color_palette()[0])\n",
    "n, bins, patches = plt.hist(charges, bins=1000, range=[-0.2e-12, 5e-12], histtype=\"stepfilled\", color=sns.color_palette()[0], alpha=0.15)\n",
    "plt.xlabel(\"Integrated Charge (C)\")\n",
    "plt.ylabel(\"Counts\")\n",
    "plt.yscale(\"log\")\n",
    "bias = test_file[\"bias\"][()]\n",
    "plt.savefig(os.path.join(save_path, f\"pe_spec_{bias}.png\"), dpi=600)"
   ]
  },
  {
   "cell_type": "code",
   "execution_count": null,
   "id": "766ad42c-9161-4b00-8892-31c244f214f7",
   "metadata": {},
   "outputs": [],
   "source": [
    "peaks, peak_locs, amplitudes = guess_peaks(n, bins, 14, 2.5e-13)"
   ]
  },
  {
   "cell_type": "code",
   "execution_count": null,
   "id": "882edeee-b656-4405-bb36-f61cc840e1d5",
   "metadata": {},
   "outputs": [],
   "source": [
    "plt.figure()\n",
    "n, bins, patches = plt.hist(charges, bins=1000, range=[-0.2e-12, 5e-12], histtype=\"step\", color=sns.color_palette()[0])\n",
    "n, bins, patches = plt.hist(charges, bins=1000, range=[-0.2e-12, 5e-12], histtype=\"stepfilled\", color=sns.color_palette()[0], alpha=0.15)\n",
    "plt.scatter(peak_locs, amplitudes)\n",
    "plt.xlabel(\"Integrated Charge (C)\")\n",
    "plt.ylabel(\"Counts\")\n",
    "plt.yscale(\"log\")"
   ]
  },
  {
   "cell_type": "code",
   "execution_count": null,
   "id": "0b9d656d-7221-452d-85ab-522a7743950d",
   "metadata": {},
   "outputs": [],
   "source": [
    "gauss_params, gauss_errors = fit_peaks(n, bins, peaks, peak_locs, amplitudes, fit_width=15)"
   ]
  },
  {
   "cell_type": "code",
   "execution_count": null,
   "id": "f7dfdc6c-13da-4e64-8b32-291253c5a86f",
   "metadata": {},
   "outputs": [],
   "source": [
    "x = np.linspace(-0.2e-12, 4e-12, 1000)"
   ]
  },
  {
   "cell_type": "code",
   "execution_count": null,
   "id": "f3bd6a90-17dd-450c-87cc-b4e1f7587624",
   "metadata": {},
   "outputs": [],
   "source": [
    "plt.figure()\n",
    "for i, params in enumerate(gauss_params):\n",
    "    plt.plot(x, gaussian(x, *params), color=sns.color_palette()[i])\n",
    "n, bins, patches = plt.hist(charges, bins=1000, range=[-0.2e-12, 5e-12], histtype=\"step\", color=sns.color_palette()[0])\n",
    "n, bins, patches = plt.hist(charges, bins=1000, range=[-0.2e-12, 5e-12], histtype=\"stepfilled\", color=sns.color_palette()[0], alpha=0.15)\n",
    "plt.xlabel(\"Integrated Charge (C)\")\n",
    "plt.ylabel(\"Counts\")\n",
    "plt.xlim(-0.2e-12, 5e-12)\n",
    "plt.ylim(1, 10000)\n",
    "plt.yscale(\"log\")\n",
    "plt.savefig(os.path.join(save_path, f\"pe_spec_{bias}_fit.png\"), dpi=600)"
   ]
  },
  {
   "cell_type": "code",
   "execution_count": null,
   "id": "b41f4d0f-308a-4acf-833f-68db1f52c996",
   "metadata": {},
   "outputs": [],
   "source": [
    "#gauss_params.insert(0, np.zeros(3))\n",
    "#gauss_errors.insert(0, np.ones(3)*1e-15)"
   ]
  },
  {
   "cell_type": "code",
   "execution_count": null,
   "id": "196b4ea3-5e47-4158-baa9-9ab33ae516a6",
   "metadata": {},
   "outputs": [],
   "source": [
    "write_to_json(json_path, file_list[file_num], gauss_params, gauss_errors)"
   ]
  },
  {
   "cell_type": "code",
   "execution_count": null,
   "id": "3660c4a6-69b0-4d88-8ca9-9fa1703619c6",
   "metadata": {},
   "outputs": [],
   "source": [
    "len(test_file[\"bias\"].shape)"
   ]
  },
  {
   "cell_type": "code",
   "execution_count": null,
   "id": "6840792a-8779-49be-a739-a47f3f6c8b11",
   "metadata": {},
   "outputs": [],
   "source": [
    "test_file[\"processed\"].keys()"
   ]
  },
  {
   "cell_type": "code",
   "execution_count": null,
   "id": "bd9e9146-902b-4f0b-bef6-42cf13789d35",
   "metadata": {},
   "outputs": [],
   "source": [
    "test_file.close()"
   ]
  },
  {
   "cell_type": "code",
   "execution_count": null,
   "id": "bb50fa1e-e53d-4659-9ba4-cf30a7ae906d",
   "metadata": {},
   "outputs": [],
   "source": []
  }
 ],
 "metadata": {
  "kernelspec": {
   "display_name": "Python 3",
   "language": "python",
   "name": "python3"
  },
  "language_info": {
   "codemirror_mode": {
    "name": "ipython",
    "version": 3
   },
   "file_extension": ".py",
   "mimetype": "text/x-python",
   "name": "python",
   "nbconvert_exporter": "python",
   "pygments_lexer": "ipython3",
   "version": "3.8.12"
  }
 },
 "nbformat": 4,
 "nbformat_minor": 5
}
