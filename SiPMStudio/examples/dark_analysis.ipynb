{
 "cells": [
  {
   "cell_type": "code",
   "execution_count": 1,
   "id": "42923b4e-4317-46a1-843c-59da49d064d4",
   "metadata": {},
   "outputs": [],
   "source": [
    "%matplotlib widget\n",
    "import numpy as np\n",
    "import matplotlib.pyplot as plt\n",
    "import seaborn as sns\n",
    "\n",
    "import os\n",
    "import json\n",
    "import h5py\n",
    "import glob\n",
    "\n",
    "from SiPMStudio.analysis.dark import amp_dt, all_dts, cross_talk_frac, gain\n",
    "from matplotlib.colors import LogNorm\n",
    "\n",
    "from scipy.signal import find_peaks\n",
    "from scipy.stats import linregress"
   ]
  },
  {
   "cell_type": "code",
   "execution_count": 2,
   "id": "2caeb81a-78cc-4212-a770-1a759d7c6353",
   "metadata": {},
   "outputs": [],
   "source": [
    "file_list = glob.glob(\"t2/*room*.h5\")"
   ]
  },
  {
   "cell_type": "code",
   "execution_count": 25,
   "id": "10b7da55-49a5-42e8-a742-5c6ac607b6a0",
   "metadata": {},
   "outputs": [],
   "source": [
    "file_list\n",
    "idx = 5"
   ]
  },
  {
   "cell_type": "code",
   "execution_count": 26,
   "id": "b5490cfa-4f42-46f8-b1fe-d2cdb7530375",
   "metadata": {},
   "outputs": [],
   "source": [
    "peaks_json = None\n",
    "with open(\"ketek_room_reprocs_norm.json\", \"r\") as json_file:\n",
    "    peaks_json = json.load(json_file)"
   ]
  },
  {
   "cell_type": "code",
   "execution_count": 27,
   "id": "b8eb9390-e5d7-4842-97c7-69664ae8469e",
   "metadata": {},
   "outputs": [],
   "source": [
    "head, file_name = os.path.split(file_list[idx])\n",
    "peaks = peaks_json[\"processes\"][\"normalize_charge\"][file_name][\"peak_locs\"]\n",
    "errors = peaks_json[\"processes\"][\"normalize_charge\"][file_name][\"peak_errors\"]"
   ]
  },
  {
   "cell_type": "code",
   "execution_count": 28,
   "id": "e7ff799a-d714-4463-a201-75df7e562acf",
   "metadata": {},
   "outputs": [
    {
     "data": {
      "text/plain": [
       "2271845.19091712"
      ]
     },
     "execution_count": 28,
     "metadata": {},
     "output_type": "execute_result"
    }
   ],
   "source": [
    "gain(peaks, errors)"
   ]
  },
  {
   "cell_type": "code",
   "execution_count": 29,
   "id": "7d4e4873-cf4e-4971-8808-db36013ba304",
   "metadata": {},
   "outputs": [],
   "source": [
    "test_file = h5py.File(file_list[idx], \"r\")\n",
    "bias = test_file[\"bias\"][()]\n",
    "dt = test_file[\"dt\"][()]\n",
    "timetags = test_file[\"timetag\"][:]\n",
    "blr_wf = test_file[\"/processed/channels/sipm/blr_wf\"][:]\n",
    "wf_len = test_file[\"/processed/channels/sipm/wf_len\"][()]\n",
    "adc_v = test_file[\"/processed/channels/sipm/adc_to_v\"][()]\n",
    "charges = test_file[\"/processed/channels/sipm/charge\"][:]\n",
    "norm_charges = test_file[\"/processed/channels/sipm/norm_charge\"][:]"
   ]
  },
  {
   "cell_type": "code",
   "execution_count": 30,
   "id": "81e8c6e2-b629-4044-818d-5d3cd86cdb18",
   "metadata": {},
   "outputs": [],
   "source": [
    "test_file.close()"
   ]
  },
  {
   "cell_type": "code",
   "execution_count": 31,
   "id": "1572002c-7d91-41bb-b185-b2e1940910cb",
   "metadata": {},
   "outputs": [],
   "source": [
    "wf_time = np.arange(0, dt*wf_len, dt)"
   ]
  },
  {
   "cell_type": "code",
   "execution_count": 32,
   "id": "39c0f5e5-a547-49dd-8d38-491598c93a5f",
   "metadata": {},
   "outputs": [],
   "source": [
    "def plot_waveforms(ax, time, waveforms, num=50, offset=0):\n",
    "    for i in range(offset, num+offset):\n",
    "        ax.plot(time, waveforms[i])\n",
    "    ax.set_xlabel(\"Time (ns)\")\n",
    "    ax.set_ylabel(\"Amplitude (mV)\")\n",
    "    \n",
    "def plot_charge(ax, charges, bins=1000, x_range=None):\n",
    "    ax.hist(charges, bins=bins, range=x_range, histtype=\"stepfilled\", alpha=0.15, color=sns.color_palette()[0])\n",
    "    ax.hist(charges, bins=bins, range=x_range, histtype=\"step\", color=sns.color_palette()[0])\n",
    "    ax.set_xlabel(\"P.E.\")\n",
    "    ax.set_ylabel(\"Counts\")\n",
    "    \n",
    "def plot_dts(ax, dts, bins=1000, x_range=None):\n",
    "    ax.hist(dts, bins=bins, range=x_range, histtype=\"stepfilled\", alpha=0.15, color=sns.color_palette()[0])\n",
    "    n, bins, patches = ax.hist(dts, bins=bins, range=x_range, histtype=\"step\", color=sns.color_palette()[0])\n",
    "    ax.set_xlabel(\"Inter-times (ns)\")\n",
    "    ax.set_ylabel(\"Count\")\n",
    "    return n, bins\n",
    "    \n",
    "def plot_amp_dt(fig, ax, dts, amps, bins=[1000, 1000], x_range=[10, 5e3], y_range=[0, 600]):\n",
    "    x_bins = np.logspace(np.log10(x_range[0]), np.log10(x_range[1]), bins[0])\n",
    "    y_bins = np.linspace(y_range[0], y_range[1], bins[1])\n",
    "    h, x, y, im = ax.hist2d(dts, amps, bins=[x_bins, y_bins], norm=LogNorm())\n",
    "    ax.set_xlabel(\"Inter-times (ns)\")\n",
    "    ax.set_ylabel(\"Amplitude (mV)\")\n",
    "    ax.set_xscale(\"log\")\n",
    "    fig.colorbar(im, ax=ax)\n",
    "    \n",
    "def fit_exp(x, y):\n",
    "    x_new = x[y > 0]\n",
    "    y_new = y[y > 0]\n",
    "    ln_y = np.log(y_new)\n",
    "    slope, intercept, r, p, stderr = linregress(x_new, ln_y)\n",
    "    scale = (1 / (1e-9*1e3))\n",
    "    return abs(slope)*scale, stderr*scale, slope, intercept"
   ]
  },
  {
   "cell_type": "code",
   "execution_count": 33,
   "id": "18e67534-be48-4f0c-b809-9ae9dc320ef1",
   "metadata": {},
   "outputs": [
    {
     "data": {
      "application/vnd.jupyter.widget-view+json": {
       "model_id": "0e41f953037f4e4f94e77e0001644011",
       "version_major": 2,
       "version_minor": 0
      },
      "text/plain": [
       "Canvas(toolbar=Toolbar(toolitems=[('Home', 'Reset original view', 'home', 'home'), ('Back', 'Back to previous …"
      ]
     },
     "metadata": {},
     "output_type": "display_data"
    }
   ],
   "source": [
    "fig, ax = plt.subplots()\n",
    "plot_waveforms(ax, wf_time, blr_wf*adc_v*1e3)\n",
    "plt.savefig(os.path.join(os.getcwd(), \"plots\", \"waveforms\", f\"waveforms_{bias}.png\"), dpi=600)"
   ]
  },
  {
   "cell_type": "code",
   "execution_count": 34,
   "id": "f1687096-c6b6-42e9-a450-097e390f13e5",
   "metadata": {},
   "outputs": [
    {
     "data": {
      "application/vnd.jupyter.widget-view+json": {
       "model_id": "8f81f49678564df0b5989345827ab0f8",
       "version_major": 2,
       "version_minor": 0
      },
      "text/plain": [
       "Canvas(toolbar=Toolbar(toolitems=[('Home', 'Reset original view', 'home', 'home'), ('Back', 'Back to previous …"
      ]
     },
     "metadata": {},
     "output_type": "display_data"
    }
   ],
   "source": [
    "fig, ax = plt.subplots()\n",
    "plot_charge(ax, charges)\n",
    "ax.set_xlabel(\"Charge (C)\")\n",
    "ax.set_yscale(\"log\")\n",
    "plt.savefig(os.path.join(os.getcwd(), \"plots\", \"pe_spectrums\", f\"charge_spec_{bias}.png\"), dpi=600)"
   ]
  },
  {
   "cell_type": "code",
   "execution_count": 35,
   "id": "61f49ae7-390b-405f-9b2a-f1fab7784e3c",
   "metadata": {},
   "outputs": [
    {
     "data": {
      "application/vnd.jupyter.widget-view+json": {
       "model_id": "ca9d4fc9fb1f47abb71b81ce50239d28",
       "version_major": 2,
       "version_minor": 0
      },
      "text/plain": [
       "Canvas(toolbar=Toolbar(toolitems=[('Home', 'Reset original view', 'home', 'home'), ('Back', 'Back to previous …"
      ]
     },
     "metadata": {},
     "output_type": "display_data"
    }
   ],
   "source": [
    "fig, ax = plt.subplots()\n",
    "plot_charge(ax, norm_charges)\n",
    "ax.set_yscale(\"log\")\n",
    "plt.savefig(os.path.join(os.getcwd(), \"plots\", \"pe_spectrums\", f\"norm_spec_{bias}.png\"), dpi=600)"
   ]
  },
  {
   "cell_type": "code",
   "execution_count": null,
   "id": "19ed2b80-c5d0-4713-b031-79e8b9fcb52a",
   "metadata": {},
   "outputs": [
    {
     "name": "stderr",
     "output_type": "stream",
     "text": [
      " 80%|████████  | 60442/75199 [00:09<00:02, 6383.21it/s]"
     ]
    }
   ],
   "source": [
    "wf_dts, wf_amps, wf_ids = amp_dt(timetags, blr_wf*adc_v*1e3, dt, height=100, distance=100, width=4)"
   ]
  },
  {
   "cell_type": "code",
   "execution_count": 36,
   "id": "c3126e44-0059-40de-9e7e-a8ed552270d4",
   "metadata": {},
   "outputs": [
    {
     "data": {
      "application/vnd.jupyter.widget-view+json": {
       "model_id": "28fd15a9e82d4cad810e95bf4e38bf03",
       "version_major": 2,
       "version_minor": 0
      },
      "text/plain": [
       "Canvas(toolbar=Toolbar(toolitems=[('Home', 'Reset original view', 'home', 'home'), ('Back', 'Back to previous …"
      ]
     },
     "metadata": {},
     "output_type": "display_data"
    }
   ],
   "source": [
    "fig, ax = plt.subplots()\n",
    "plot_amp_dt(fig, ax, wf_dts, wf_amps, bins=[200, 1000], x_range=[10, 1e4], y_range=[0, 400])"
   ]
  },
  {
   "cell_type": "code",
   "execution_count": 37,
   "id": "c71d710b-f0fe-47e9-acd1-ebca0dde56f7",
   "metadata": {},
   "outputs": [],
   "source": [
    "#wf_dts = all_dts(timetags, blr_wf*adc_v*1e3, dt, height=35, distance=100, width=4)"
   ]
  },
  {
   "cell_type": "code",
   "execution_count": 38,
   "id": "d8d6d40c-640d-4ec0-9ab3-8085cfa5c17a",
   "metadata": {},
   "outputs": [
    {
     "data": {
      "application/vnd.jupyter.widget-view+json": {
       "model_id": "eb93dd82972b4b0fb3e4d73258695659",
       "version_major": 2,
       "version_minor": 0
      },
      "text/plain": [
       "Canvas(toolbar=Toolbar(toolitems=[('Home', 'Reset original view', 'home', 'home'), ('Back', 'Back to previous …"
      ]
     },
     "metadata": {},
     "output_type": "display_data"
    }
   ],
   "source": [
    "fig, ax = plt.subplots()\n",
    "n, bins = plot_dts(ax, wf_dts, x_range=[0, 1e4], bins=150)\n",
    "ax.set_yscale(\"log\")"
   ]
  },
  {
   "cell_type": "code",
   "execution_count": 39,
   "id": "78f11860-8913-40c9-9099-c03ad49e3ce2",
   "metadata": {},
   "outputs": [],
   "source": [
    "bin_centers = (bins[1:] + bins[:-1]) / 2\n",
    "cut = (bin_centers < 6000) & (bin_centers > 1000)\n",
    "rate, error, slope, intercept = fit_exp(bin_centers[cut], n[cut])"
   ]
  },
  {
   "cell_type": "code",
   "execution_count": 40,
   "id": "001396e1-1ae8-4413-8de3-4ad3efd570a5",
   "metadata": {},
   "outputs": [],
   "source": [
    "inter_times = np.linspace(0, 1e4, 100)\n",
    "exp_func = np.exp(intercept + slope*inter_times)"
   ]
  },
  {
   "cell_type": "code",
   "execution_count": 41,
   "id": "f35de0a9-de1d-40bf-8289-9b94d1e13e7b",
   "metadata": {},
   "outputs": [
    {
     "data": {
      "application/vnd.jupyter.widget-view+json": {
       "model_id": "a5c2e9ed59ee4166a5e54f9e87f917fe",
       "version_major": 2,
       "version_minor": 0
      },
      "text/plain": [
       "Canvas(toolbar=Toolbar(toolitems=[('Home', 'Reset original view', 'home', 'home'), ('Back', 'Back to previous …"
      ]
     },
     "metadata": {},
     "output_type": "display_data"
    }
   ],
   "source": [
    "fig, ax = plt.subplots()\n",
    "n, bins = plot_dts(ax, wf_dts, x_range=[0, 1e4], bins=150)\n",
    "ax.plot(inter_times, exp_func, color=\"red\", alpha=0.5, label=rf\"{round(rate, 1)} kHz $\\pm$ {round(error, 2)}\")\n",
    "ax.legend()\n",
    "ax.set_yscale(\"log\")\n",
    "plt.savefig(os.path.join(os.getcwd(), \"plots\", \"dark_counts\", f\"dcr_{bias}.png\"), dpi=600)"
   ]
  },
  {
   "cell_type": "code",
   "execution_count": null,
   "id": "e9c32c92-6e2a-4ee8-a0e4-8d6020ce4aaa",
   "metadata": {},
   "outputs": [],
   "source": [
    "cross_talk, cross_error = cross_talk_frac(norm_charges)"
   ]
  },
  {
   "cell_type": "code",
   "execution_count": null,
   "id": "99f1b4b3-5dde-41f4-b1a4-d9a15bd9844d",
   "metadata": {},
   "outputs": [],
   "source": [
    "print(cross_talk, cross_error)"
   ]
  },
  {
   "cell_type": "code",
   "execution_count": null,
   "id": "f5143039-065a-4587-89a2-859d9cc5a393",
   "metadata": {},
   "outputs": [],
   "source": []
  }
 ],
 "metadata": {
  "kernelspec": {
   "display_name": "Python 3",
   "language": "python",
   "name": "python3"
  },
  "language_info": {
   "codemirror_mode": {
    "name": "ipython",
    "version": 3
   },
   "file_extension": ".py",
   "mimetype": "text/x-python",
   "name": "python",
   "nbconvert_exporter": "python",
   "pygments_lexer": "ipython3",
   "version": "3.8.12"
  }
 },
 "nbformat": 4,
 "nbformat_minor": 5
}
