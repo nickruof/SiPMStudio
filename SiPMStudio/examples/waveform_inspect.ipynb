{
 "cells": [
  {
   "cell_type": "code",
   "execution_count": null,
   "id": "a0572160-1fff-45b1-9811-359dd8d979e0",
   "metadata": {},
   "outputs": [],
   "source": [
    "%matplotlib widget\n",
    "import os\n",
    "import glob\n",
    "import h5py\n",
    "\n",
    "import numpy as np\n",
    "import matplotlib.pyplot as plt"
   ]
  },
  {
   "cell_type": "code",
   "execution_count": null,
   "id": "0fc88d94-ba24-4a3c-a7e4-09ae75818402",
   "metadata": {},
   "outputs": [],
   "source": [
    "file_list = glob.glob(\"t2/*.h5\")"
   ]
  },
  {
   "cell_type": "code",
   "execution_count": null,
   "id": "a4d2d127-f994-4f24-a566-1f8576ab4b7f",
   "metadata": {},
   "outputs": [],
   "source": [
    "file_list"
   ]
  },
  {
   "cell_type": "code",
   "execution_count": null,
   "id": "ead7537b-a06a-4f05-86d3-900b236192a1",
   "metadata": {},
   "outputs": [],
   "source": [
    "test_file = h5py.File(file_list[0], \"r\")\n",
    "dt = test_file[\"dt\"][()]\n",
    "wf_len = test_file[\"/processed/channels/sipm/wf_len\"][()]\n",
    "waveforms = test_file[\"/processed/channels/sipm/blr_wf\"][:]\n",
    "adc_v = test_file[\"/processed/channels/sipm/adc_to_v\"][()]"
   ]
  },
  {
   "cell_type": "code",
   "execution_count": null,
   "id": "291c7183-95bf-4b73-9901-7cc8820253d8",
   "metadata": {},
   "outputs": [],
   "source": [
    "time = np.arange(0, dt*wf_len, dt)"
   ]
  },
  {
   "cell_type": "code",
   "execution_count": null,
   "id": "89a5b10e-74c0-421b-aa74-91f6e2272458",
   "metadata": {},
   "outputs": [],
   "source": [
    "plt.figure()\n",
    "plt.plot(time, waveforms[7]*adc_v*1e3)\n",
    "plt.xlabel(\"Time (ns)\")\n",
    "plt.ylabel(\"Amplitude (mV)\")"
   ]
  },
  {
   "cell_type": "code",
   "execution_count": null,
   "id": "89a634b2-c991-4577-bfa2-ac03f5de23e9",
   "metadata": {},
   "outputs": [],
   "source": [
    "waveforms.shape"
   ]
  },
  {
   "cell_type": "code",
   "execution_count": null,
   "id": "f0cf5307-4582-494c-a98c-18e18de33fe7",
   "metadata": {},
   "outputs": [],
   "source": []
  }
 ],
 "metadata": {
  "kernelspec": {
   "display_name": "Python 3",
   "language": "python",
   "name": "python3"
  },
  "language_info": {
   "codemirror_mode": {
    "name": "ipython",
    "version": 3
   },
   "file_extension": ".py",
   "mimetype": "text/x-python",
   "name": "python",
   "nbconvert_exporter": "python",
   "pygments_lexer": "ipython3",
   "version": "3.8.12"
  }
 },
 "nbformat": 4,
 "nbformat_minor": 5
}
