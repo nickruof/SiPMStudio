{
 "cells": [
  {
   "cell_type": "code",
   "execution_count": null,
   "id": "42923b4e-4317-46a1-843c-59da49d064d4",
   "metadata": {},
   "outputs": [],
   "source": [
    "%matplotlib widget\n",
    "import numpy as np\n",
    "import matplotlib.pyplot as plt\n",
    "import seaborn as sns\n",
    "\n",
    "import h5py\n",
    "import glob\n",
    "\n",
    "from SiPMStudio.analysis.dark import amp_dt, cross_talk_frac\n",
    "from matplotlib.colors import LogNorm\n",
    "\n",
    "from scipy.signal import find_peaks\n",
    "from scipy.stats import linregress"
   ]
  },
  {
   "cell_type": "code",
   "execution_count": null,
   "id": "2caeb81a-78cc-4212-a770-1a759d7c6353",
   "metadata": {},
   "outputs": [],
   "source": [
    "file_list = glob.glob(\"t2_v2/*room2*.h5\")"
   ]
  },
  {
   "cell_type": "code",
   "execution_count": null,
   "id": "10b7da55-49a5-42e8-a742-5c6ac607b6a0",
   "metadata": {},
   "outputs": [],
   "source": [
    "file_list"
   ]
  },
  {
   "cell_type": "code",
   "execution_count": null,
   "id": "7d4e4873-cf4e-4971-8808-db36013ba304",
   "metadata": {},
   "outputs": [],
   "source": [
    "test_file = h5py.File(file_list[5], \"r\")\n",
    "dt = test_file[\"dt\"][()]\n",
    "timetags = test_file[\"timetag\"][:]\n",
    "blr_wf = test_file[\"/processed/channels/sipm/blr_wf\"][:]\n",
    "wf_len = test_file[\"/processed/channels/sipm/wf_len\"][()]\n",
    "adc_v = test_file[\"/processed/channels/sipm/adc_to_v\"][()]\n",
    "norm_charges = test_file[\"/processed/channels/sipm/norm_charge\"][:]"
   ]
  },
  {
   "cell_type": "code",
   "execution_count": null,
   "id": "81e8c6e2-b629-4044-818d-5d3cd86cdb18",
   "metadata": {},
   "outputs": [],
   "source": [
    "test_file.close()"
   ]
  },
  {
   "cell_type": "code",
   "execution_count": null,
   "id": "1572002c-7d91-41bb-b185-b2e1940910cb",
   "metadata": {},
   "outputs": [],
   "source": [
    "wf_time = np.arange(0, dt*wf_len, dt)"
   ]
  },
  {
   "cell_type": "code",
   "execution_count": null,
   "id": "39c0f5e5-a547-49dd-8d38-491598c93a5f",
   "metadata": {},
   "outputs": [],
   "source": [
    "def plot_waveforms(ax, time, waveforms, num=50, offset=0):\n",
    "    for i in range(offset, num+offset):\n",
    "        ax.plot(time, waveforms[i])\n",
    "    ax.set_xlabel(\"Time (ns)\")\n",
    "    ax.set_ylabel(\"Amplitude (mV)\")\n",
    "    \n",
    "def plot_charge(ax, charges, bins=1000, x_range=None):\n",
    "    ax.hist(charges, bins=bins, range=x_range, histtype=\"stepfilled\", alpha=0.15, color=sns.color_palette()[0])\n",
    "    ax.hist(charges, bins=bins, range=x_range, histtype=\"step\", color=sns.color_palette()[0])\n",
    "    ax.set_xlabel(\"P.E.\")\n",
    "    ax.set_ylabel(\"Counts\")\n",
    "    \n",
    "def plot_dts(ax, dts, bins=1000, x_range=None):\n",
    "    ax.hist(dts, bins=bins, range=x_range, histtype=\"stepfilled\", alpha=0.15, color=sns.color_palette()[0])\n",
    "    n, bins, patches = ax.hist(dts, bins=bins, range=x_range, histtype=\"step\", color=sns.color_palette()[0])\n",
    "    ax.set_xlabel(\"Inter-times (ns)\")\n",
    "    ax.set_ylabel(\"Count\")\n",
    "    return n, bins\n",
    "    \n",
    "def plot_amp_dt(fig, ax, dts, amps, bins=[1000, 1000], x_range=[10, 5e3], y_range=[0, 600]):\n",
    "    x_bins = np.logspace(np.log10(x_range[0]), np.log10(x_range[1]), bins[0])\n",
    "    y_bins = np.linspace(y_range[0], y_range[1], bins[1])\n",
    "    h, x, y, im = ax.hist2d(dts, amps, bins=[x_bins, y_bins], norm=LogNorm())\n",
    "    ax.set_xlabel(\"Inter-times (ns)\")\n",
    "    ax.set_ylabel(\"Amplitude (mV)\")\n",
    "    ax.set_xscale(\"log\")\n",
    "    fig.colorbar(im, ax=ax)\n",
    "    \n",
    "def fit_exp(x, y):\n",
    "    x_new = x[y > 0]\n",
    "    y_new = y[y > 0]\n",
    "    ln_y = np.log(y_new)\n",
    "    slope, intercept, r, p, stderr = linregress(x_new, ln_y)\n",
    "    scale = (1 / (1e-9*1e3))\n",
    "    return abs(slope)*scale, stderr*scale, slope, intercept"
   ]
  },
  {
   "cell_type": "code",
   "execution_count": null,
   "id": "18e67534-be48-4f0c-b809-9ae9dc320ef1",
   "metadata": {},
   "outputs": [],
   "source": [
    "fig, ax = plt.subplots()\n",
    "plot_waveforms(ax, wf_time, blr_wf*adc_v*1e3)"
   ]
  },
  {
   "cell_type": "code",
   "execution_count": null,
   "id": "f1687096-c6b6-42e9-a450-097e390f13e5",
   "metadata": {},
   "outputs": [],
   "source": [
    "fig, ax = plt.subplots()\n",
    "plot_charge(ax, norm_charges[norm_charges > -0.12])\n",
    "ax.set_yscale(\"log\")"
   ]
  },
  {
   "cell_type": "code",
   "execution_count": null,
   "id": "19ed2b80-c5d0-4713-b031-79e8b9fcb52a",
   "metadata": {},
   "outputs": [],
   "source": [
    "wf_dts, wf_amps, wf_ids = amp_dt(timetags, blr_wf*adc_v*1e3, dt, height=100, distance=60)"
   ]
  },
  {
   "cell_type": "code",
   "execution_count": null,
   "id": "c3126e44-0059-40de-9e7e-a8ed552270d4",
   "metadata": {},
   "outputs": [],
   "source": [
    "fig, ax = plt.subplots()\n",
    "plot_amp_dt(fig, ax, wf_dts, wf_amps, bins=[200, 1000], x_range=[10, 1e4], y_range=[0, 400])"
   ]
  },
  {
   "cell_type": "code",
   "execution_count": null,
   "id": "d8d6d40c-640d-4ec0-9ab3-8085cfa5c17a",
   "metadata": {},
   "outputs": [],
   "source": [
    "fig, ax = plt.subplots()\n",
    "n, bins = plot_dts(ax, wf_dts[wf_amps > 132], x_range=[0, 5e3], bins=150)\n",
    "ax.set_yscale(\"log\")"
   ]
  },
  {
   "cell_type": "code",
   "execution_count": null,
   "id": "78f11860-8913-40c9-9099-c03ad49e3ce2",
   "metadata": {},
   "outputs": [],
   "source": [
    "bin_centers = (bins[1:] + bins[:-1]) / 2\n",
    "cut = (bin_centers < 4500) & (bin_centers > 500)\n",
    "rate, error, slope, intercept = fit_exp(bin_centers[cut], n[cut])"
   ]
  },
  {
   "cell_type": "code",
   "execution_count": null,
   "id": "001396e1-1ae8-4413-8de3-4ad3efd570a5",
   "metadata": {},
   "outputs": [],
   "source": [
    "inter_times = np.linspace(0, 5000, 100)\n",
    "exp_func = np.exp(intercept + slope*inter_times)"
   ]
  },
  {
   "cell_type": "code",
   "execution_count": null,
   "id": "f35de0a9-de1d-40bf-8289-9b94d1e13e7b",
   "metadata": {},
   "outputs": [],
   "source": [
    "fig, ax = plt.subplots()\n",
    "n, bins = plot_dts(ax, wf_dts, x_range=[0, 5e3], bins=150)\n",
    "ax.plot(inter_times, exp_func, color=\"red\", alpha=0.5, label=rf\"{round(rate, 1)} kHz $\\pm$ {round(error, 2)}\")\n",
    "ax.legend()\n",
    "ax.set_yscale(\"log\")"
   ]
  },
  {
   "cell_type": "code",
   "execution_count": null,
   "id": "e9c32c92-6e2a-4ee8-a0e4-8d6020ce4aaa",
   "metadata": {},
   "outputs": [],
   "source": [
    "cross_talk, cross_error = cross_talk_frac(norm_charges)"
   ]
  },
  {
   "cell_type": "code",
   "execution_count": null,
   "id": "99f1b4b3-5dde-41f4-b1a4-d9a15bd9844d",
   "metadata": {},
   "outputs": [],
   "source": [
    "print(cross_talk, cross_error)"
   ]
  },
  {
   "cell_type": "code",
   "execution_count": null,
   "id": "f5143039-065a-4587-89a2-859d9cc5a393",
   "metadata": {},
   "outputs": [],
   "source": []
  }
 ],
 "metadata": {
  "kernelspec": {
   "display_name": "Python 3",
   "language": "python",
   "name": "python3"
  },
  "language_info": {
   "codemirror_mode": {
    "name": "ipython",
    "version": 3
   },
   "file_extension": ".py",
   "mimetype": "text/x-python",
   "name": "python",
   "nbconvert_exporter": "python",
   "pygments_lexer": "ipython3",
   "version": "3.8.12"
  }
 },
 "nbformat": 4,
 "nbformat_minor": 5
}
